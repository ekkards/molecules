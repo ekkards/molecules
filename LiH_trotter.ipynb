{
 "cells": [
  {
   "cell_type": "markdown",
   "metadata": {},
   "source": [
    "# LiH molecule\n",
    "\n",
    "## Origin of this method: Low rank decomposition of the Coulomb operator\n",
    " \"Low rank representations for quantum simulation of electronic structure\"\n",
    "Mario Motta, Erika Ye, Jarrod R. McClean, Zhendong Li, Austin J. Minnich, Ryan Babbush, Garnet Kin-Lic Chan\n",
    "https://arxiv.org/abs/1808.02625\n",
    "\n",
    "The code is adapted from OpenFermion-Cirq Tutorial III: Low rank, arbitrary basis molecular simulations https://github.com/quantumlib/OpenFermion-Cirq/blob/master/examples/tutorial_3_arbitrary_basis_trotter.ipynb\n",
    "\n",
    "In Tutorial III both of those techniques are combined, along with some insights from electronic structure,\n",
    "to simulate a Trotter step under the arbitrary basis two-body operator as\n",
    "$$\n",
    "\\prod_{\\ell=0}^{L-1} R_\\ell \\exp\\left(-i\\sum_{pq} f_{\\ell p} f_{\\ell q} a^\\dagger_p a_p a^\\dagger_q a_q\\right) R_\\ell^\\dagger\n",
    "$$\n",
    "where we note that the operator in the exponential take the form of a diagonal Coulomb operator. Since we can implement the $R_\\ell$ circuits in $O(N)$ depth (see Tutorial I) and we can implement Trotter steps under diagonal Coulomb operators in $O(N)$ layers of gates (see Tutorial II) we see that we can implement Trotter steps under arbitrary basis electronic structure Hamiltionians in $O(L N) = O(N^2)$ depth, and all on a linearly connected device.\n",
    "\n",
    "## Example implementation: Trotter steps of LiH in molecular orbital basis\n",
    "\n",
    "We will now use these techniques to implement Trotter steps for an actual molecule. We will focus on LiH at equilibrium geometry, since integrals for that system are provided with every OpenFermion installation. However, by installing [OpenFermion-PySCF](https://github.com/quantumlib/OpenFermion-PySCF) or [OpenFermion-Psi4](https://github.com/quantumlib/OpenFermion-Psi4) one can use these techniques for any molecule at any geometry. We will generate LiH in an active space consisting of 4 qubits. First, we obtain the Hamiltonian as an InteractionOperator."
   ]
  },
  {
   "cell_type": "code",
   "execution_count": 1,
   "metadata": {},
   "outputs": [
    {
     "name": "stdout",
     "output_type": "stream",
     "text": [
      "Molecular Hamiltonian with 1 constant and 16 1-body and 256 2-body tensor terms\n",
      "Hamiltonian matrix as (16, 16) from which 36 are not null\n",
      "Eigenvalues  (Energies)\n",
      " [-7.862773 -7.783396 -7.783396 -7.714057 -7.714057 -7.714057 -7.700476\n",
      " -7.569985 -7.569985 -7.512    -7.512    -7.364817 -7.151525 -7.130407\n",
      " -7.130407 -6.769813]\n",
      "Eigenvectors (Orbitals)\n",
      " [[ 0.   0.   0.   0.   0.   0.   0.   0.   0.   0.   0.   0.   0.   0.\n",
      "   0.   1. ]\n",
      " [ 0.   0.   0.   0.   0.   0.   0.   0.   0.1  0.   0.   0.   0.   1.\n",
      "   0.1  0. ]\n",
      " [ 0.   0.   0.   0.   0.   0.   0.   0.1 -0.   0.   0.   0.   0.  -0.1\n",
      "   1.   0. ]\n",
      " [ 0.   0.   0.   0.   0.   0.  -0.1  0.   0.   0.   0.   0.   1.   0.\n",
      "   0.   0. ]\n",
      " [ 0.   0.   0.   0.   0.   0.   0.  -0.1 -1.   0.   0.   0.   0.   0.1\n",
      "   0.   0. ]\n",
      " [ 0.   0.   0.   1.   0.   0.   0.   0.   0.   0.   0.   0.   0.   0.\n",
      "   0.   0. ]\n",
      " [ 0.  -0.  -0.   0.   0.7  0.  -0.7  0.   0.  -0.  -0.   0.  -0.1  0.\n",
      "   0.   0. ]\n",
      " [ 0.  -0.  -0.   0.   0.  -0.   0.   0.   0.  -0.  -1.   0.   0.   0.\n",
      "   0.   0. ]\n",
      " [ 0.   0.   0.   0.   0.   0.   0.  -1.   0.1  0.   0.   0.   0.  -0.\n",
      "   0.1  0. ]\n",
      " [-0.  -0.  -0.   0.   0.7  0.   0.7  0.   0.   0.   0.   0.   0.1  0.\n",
      "   0.   0. ]\n",
      " [-0.   0.   0.   0.   0.  -1.  -0.   0.   0.  -0.   0.   0.  -0.   0.\n",
      "   0.   0. ]\n",
      " [-0.  -0.   0.   0.   0.  -0.   0.   0.   0.   1.  -0.   0.   0.   0.\n",
      "   0.   0. ]\n",
      " [-1.  -0.  -0.   0.  -0.   0.  -0.   0.   0.  -0.  -0.   0.   0.   0.\n",
      "   0.   0. ]\n",
      " [ 0.  -1.  -0.   0.  -0.  -0.  -0.   0.   0.   0.   0.   0.  -0.   0.\n",
      "   0.   0. ]\n",
      " [-0.  -0.   1.   0.  -0.   0.   0.   0.   0.  -0.   0.   0.  -0.   0.\n",
      "   0.   0. ]\n",
      " [ 0.   0.   0.   0.   0.   0.   0.   0.   0.   0.   0.   1.   0.   0.\n",
      "   0.   0. ]]\n"
     ]
    }
   ],
   "source": [
    "import openfermion\n",
    "\n",
    "# Set Hamiltonian parameters for LiH simulation in active space.\n",
    "diatomic_bond_length = 1.45\n",
    "geometry = [('Li', (0., 0., 0.)), ('H', (0., 0., diatomic_bond_length))]\n",
    "basis = 'sto-3g'\n",
    "multiplicity = 1\n",
    "active_space_start = 1\n",
    "active_space_stop = 3\n",
    "\n",
    "# Generate and populate instance of MolecularData.\n",
    "molecule = openfermion.MolecularData(geometry, basis, multiplicity, description=\"1.45\")\n",
    "molecule.load()\n",
    "\n",
    "# Get the Hamiltonian in an active space.\n",
    "molecular_hamiltonian = molecule.get_molecular_hamiltonian(\n",
    "    occupied_indices=range(active_space_start),\n",
    "    active_indices=range(active_space_start, active_space_stop))\n",
    "\n",
    "print(\"Molecular Hamiltonian with 1 constant and {} 1-body and {} 2-body tensor terms\"\n",
    "        .format(molecular_hamiltonian.one_body_tensor.size, \n",
    "                molecular_hamiltonian.two_body_tensor.size))\n",
    "\n",
    "# obtain the Hamiltonian as matrix\n",
    "hamiltonian_sparse = openfermion.get_sparse_operator(molecular_hamiltonian)\n",
    "LiH_matrix = hamiltonian_sparse.todense()\n",
    "print(\"Hamiltonian matrix as {} from which {} are not null\"\n",
    "      .format( LiH_matrix.shape, hamiltonian_sparse.nnz))\n",
    "\n",
    "# solve for eigenvalues by matrix algorithms\n",
    "from scipy.linalg import eigh\n",
    "eigenvalues , eigenvectors = eigh(LiH_matrix)\n",
    "print(\"Eigenvalues  (Energies)\\n\", eigenvalues.round(6))\n",
    "print(\"Eigenvectors (Orbitals)\\n\", eigenvectors.real.round(1))"
   ]
  },
  {
   "cell_type": "markdown",
   "metadata": {},
   "source": [
    "We are not yet aiming for chemical accuracy. We could check the Hamiltonian' eigenvalues with experimental data or compare to other computations from https://cccbdb.nist.gov/energy2.asp \n",
    "However, in the example the molecule integrals are provided by OpenFermion only for $1,45 \\mathring{A}$. If you look up the experimental geometry (correct for the Born-Openheimer approximation), $r_{LiH} = 1.595 \\mathring{A}$ for $^7Li$ https://cccbdb.nist.gov/expgeom2.asp.\n",
    "\n",
    "You can see that the matrix calculation would result in exponential runtimes for larger systems. We convert the Hamiltonian for simulation with a quantum computer into the so-called \"second quantized\" operator form, as was shown in Tutorial II.\n",
    "$$\n",
    "H = \\sum_{pq} T_{pq} a^\\dagger_p a_q + \\sum_{pq} V_{pq} a^\\dagger_p a_p a^\\dagger_q a_q.\n",
    "$$"
   ]
  },
  {
   "cell_type": "code",
   "execution_count": 2,
   "metadata": {},
   "outputs": [
    {
     "name": "stdout",
     "output_type": "stream",
     "text": [
      "Fermionic Hamiltonian with 73 terms\n"
     ]
    }
   ],
   "source": [
    "fermion_operator = openfermion.get_fermion_operator(molecular_hamiltonian)\n",
    "print(\"Fermionic Hamiltonian with {} terms\".format( len(fermion_operator.terms)))\n",
    "#print(fermion_operator)"
   ]
  },
  {
   "cell_type": "markdown",
   "metadata": {},
   "source": [
    "We see from the above output that this is a fairly complex Hamiltonian already. Next we will use the `simulate_trotter` function from Tutorial I, but this time with the built-in `LOW_RANK` Trotter step type, associated with these low rank techniques.\n",
    "\n",
    "Next we setup the simulation environment with qubits on a line."
   ]
  },
  {
   "cell_type": "code",
   "execution_count": 3,
   "metadata": {},
   "outputs": [],
   "source": [
    "import cirq\n",
    "import openfermioncirq\n",
    "from openfermioncirq import trotter\n",
    "\n",
    "# Trotter step parameters.\n",
    "time = 1.\n",
    "final_rank = 2\n",
    "\n",
    "# Initialize circuit qubits in a line.\n",
    "n_qubits = openfermion.count_qubits(molecular_hamiltonian)\n",
    "qubits = cirq.LineQubit.range(n_qubits)"
   ]
  },
  {
   "cell_type": "markdown",
   "metadata": {},
   "source": [
    "In the cell below, we compile the Trotter step with full rank so $L = N^2$ and depth is actually $O(N^3)$ and repeat the Trotter step multiple times to show that it actually converges to the correct result. Note that the rank of the Coulomb operators is asymptotically $O(N)$ but for very small molecules in small basis sets only a few eigenvalues can be truncated."
   ]
  },
  {
   "cell_type": "code",
   "execution_count": 4,
   "metadata": {},
   "outputs": [
    {
     "name": "stdout",
     "output_type": "stream",
     "text": [
      "Before optimization, Circuit has 178 moments\n",
      "After optimization, Circuit has 169 moments\n"
     ]
    }
   ],
   "source": [
    "# Initialize a random initial state.\n",
    "import numpy\n",
    "random_seed = 8317\n",
    "initial_state = openfermion.haar_random_vector(\n",
    "    2 ** n_qubits, random_seed).astype(numpy.complex64)\n",
    "\n",
    "# Trotter step paramaters.\n",
    "n_steps = 3\n",
    "\n",
    "# Compile the low rank Trotter step using OpenFermion-Cirq.\n",
    "qubits = cirq.LineQubit.range(n_qubits)\n",
    "circuit = cirq.Circuit(\n",
    "    trotter.simulate_trotter(\n",
    "            qubits, molecular_hamiltonian,\n",
    "            time=time, n_steps=n_steps,\n",
    "            algorithm=trotter.LOW_RANK),\n",
    "    strategy=cirq.InsertStrategy.EARLIEST)\n",
    "\n",
    "# Print circuit.\n",
    "print(f'Before optimization, Circuit has {len(circuit)} moments')\n",
    "cirq.DropNegligible().optimize_circuit(circuit)\n",
    "cirq.DropEmptyMoments().optimize_circuit(circuit)\n",
    "print(f'After optimization, Circuit has {len(circuit)} moments')\n",
    "#print(circuit.to_text_diagram(transpose=True))"
   ]
  },
  {
   "cell_type": "markdown",
   "metadata": {},
   "source": [
    "For comparison we compute the time step with the exact time evolution operator $\\psi(t) = e^{ -i H t } \\psi(0)$ in matrix form.\n",
    "\n",
    "We plot the exact values as solid lines and the simulation as dashed lines and include a global phase $e^{i\\pi/2}$ for each trotter step."
   ]
  },
  {
   "cell_type": "code",
   "execution_count": 5,
   "metadata": {},
   "outputs": [],
   "source": [
    "# Numerically compute the correct circuit output.\n",
    "import scipy\n",
    "exact_state = scipy.sparse.linalg.expm_multiply(\n",
    "    -1j * time * hamiltonian_sparse, initial_state)"
   ]
  },
  {
   "cell_type": "code",
   "execution_count": 6,
   "metadata": {},
   "outputs": [
    {
     "name": "stdout",
     "output_type": "stream",
     "text": [
      "Using matplotlib backend: MacOSX\n"
     ]
    },
    {
     "data": {
      "text/plain": [
       "[<matplotlib.lines.Line2D at 0x7fdc531d3ee0>]"
      ]
     },
     "execution_count": 6,
     "metadata": {},
     "output_type": "execute_result"
    }
   ],
   "source": [
    "%matplotlib\n",
    "import matplotlib.pyplot as plt\n",
    "import math, cmath\n",
    "fig, axs = plt.subplots(2)\n",
    "axs[1].set_xlabel('basis')\n",
    "axs[0].set_ylabel('Re(psi)')\n",
    "axs[1].set_ylabel('Im(psi)')\n",
    "axs[0].set_title('Simulation')\n",
    "x = range(exact_state.size)\n",
    "phase = cmath.exp(1j*math.pi/2)\n",
    "axs[0].plot(x, (phase*exact_state).real, 'r')\n",
    "axs[1].plot(x, (phase*exact_state).imag, 'r')"
   ]
  },
  {
   "cell_type": "markdown",
   "metadata": {},
   "source": [
    "Compare to complex conjugate state, why?\n",
    "And why are Re and Im exchanged between exact and simulated?\n",
    "Looks as if a phase factor is there..."
   ]
  },
  {
   "cell_type": "code",
   "execution_count": 7,
   "metadata": {},
   "outputs": [
    {
     "name": "stdout",
     "output_type": "stream",
     "text": [
      "Fidelity with exact result is 0.999996.\n",
      "\n"
     ]
    }
   ],
   "source": [
    "# Use Cirq simulator to apply circuit.\n",
    "simulator = cirq.Simulator()\n",
    "result = simulator.simulate(circuit, qubit_order=qubits, initial_state=initial_state)\n",
    "simulated_state = result.final_state\n",
    "#print( result )\n",
    "axs[0].plot(x, simulated_state.real, 'r', dashes=[1, 1])\n",
    "axs[1].plot(x, simulated_state.imag, 'r', dashes=[1, 1])\n",
    "\n",
    "# Print final fidelity.\n",
    "fidelity = abs(numpy.dot(simulated_state, numpy.conjugate(exact_state))) ** 2\n",
    "print('Fidelity with exact result is {}.\\n'.format(round(fidelity, 6)))\n"
   ]
  },
  {
   "cell_type": "code",
   "execution_count": 8,
   "metadata": {},
   "outputs": [
    {
     "name": "stdout",
     "output_type": "stream",
     "text": [
      "Fidelity with exact result is 0.999985.\n",
      "\n"
     ]
    }
   ],
   "source": [
    "# Compute next time step\n",
    "exact_state = scipy.sparse.linalg.expm_multiply(\n",
    "    -1j * time * hamiltonian_sparse, exact_state)\n",
    "phase *= cmath.exp(1j*math.pi/2)\n",
    "axs[0].plot(x, (phase*exact_state).real, 'g')\n",
    "axs[1].plot(x, (phase*exact_state).imag, 'g')\n",
    "result = simulator.simulate(circuit, qubit_order=qubits, initial_state=simulated_state)\n",
    "simulated_state = result.final_state\n",
    "axs[0].plot(x, simulated_state.real, 'g', dashes=[1, 1])\n",
    "axs[1].plot(x, simulated_state.imag, 'g', dashes=[1, 1])\n",
    "fidelity = abs(numpy.dot(simulated_state, numpy.conjugate(exact_state))) ** 2\n",
    "print('Fidelity with exact result is {}.\\n'.format(round(fidelity, 6)))"
   ]
  },
  {
   "cell_type": "code",
   "execution_count": 9,
   "metadata": {},
   "outputs": [
    {
     "name": "stdout",
     "output_type": "stream",
     "text": [
      "Fidelity with exact result is 0.999969.\n",
      "\n"
     ]
    }
   ],
   "source": [
    "# Compute time step 3\n",
    "exact_state = scipy.sparse.linalg.expm_multiply(\n",
    "    -1j * time * hamiltonian_sparse, exact_state)\n",
    "phase *= cmath.exp(1j*math.pi/2)\n",
    "axs[0].plot(x, (phase*exact_state).real, 'b')\n",
    "axs[1].plot(x, (phase*exact_state).imag, 'b')\n",
    "result = simulator.simulate(circuit, qubit_order=qubits, initial_state=simulated_state)\n",
    "simulated_state = result.final_state\n",
    "axs[0].plot(x, simulated_state.real, 'b', dashes=[1, 1])\n",
    "axs[1].plot(x, simulated_state.imag, 'b', dashes=[1, 1])\n",
    "fidelity = abs(numpy.dot(simulated_state, numpy.conjugate(exact_state))) ** 2\n",
    "print('Fidelity with exact result is {}.\\n'.format(round(fidelity, 6)))"
   ]
  },
  {
   "cell_type": "code",
   "execution_count": 10,
   "metadata": {},
   "outputs": [
    {
     "name": "stdout",
     "output_type": "stream",
     "text": [
      "Fidelity with exact result is 0.999949.\n",
      "\n"
     ]
    }
   ],
   "source": [
    "# Compute time step 4\n",
    "exact_state = scipy.sparse.linalg.expm_multiply(\n",
    "    -1j * time * hamiltonian_sparse, exact_state)\n",
    "phase *= cmath.exp(1j*math.pi/2)\n",
    "axs[0].plot(x, (phase*exact_state).real, 'y')\n",
    "axs[1].plot(x, (phase*exact_state).imag, 'y')\n",
    "result = simulator.simulate(circuit, qubit_order=qubits, initial_state=simulated_state)\n",
    "simulated_state = result.final_state\n",
    "axs[0].plot(x, simulated_state.real, 'y', dashes=[1, 1])\n",
    "axs[1].plot(x, simulated_state.imag, 'y', dashes=[1, 1])\n",
    "fidelity = abs(numpy.dot(simulated_state, numpy.conjugate(exact_state))) ** 2\n",
    "print('Fidelity with exact result is {}.\\n'.format(round(fidelity, 6)))"
   ]
  },
  {
   "cell_type": "code",
   "execution_count": 11,
   "metadata": {},
   "outputs": [],
   "source": [
    "for i, step in enumerate(simulator.simulate_moment_steps(circuit)):\n",
    "    if i == 0:\n",
    "        step.set_state_vector(simulated_state)\n",
    "    else:\n",
    "        color = (float(i/len(circuit)), float(i/len(circuit)), float(i/len(circuit))) \n",
    "        #print('state at step %d: %s' % (i, numpy.around(step.state_vector(), 3)))\n",
    "        #axs[2].plot(x, numpy.real(step.state_vector()), color)\n",
    "        #axs[3].plot(x, numpy.imag(step.state_vector()), color)\n",
    "plt.show()"
   ]
  },
  {
   "cell_type": "code",
   "execution_count": null,
   "metadata": {},
   "outputs": [],
   "source": []
  }
 ],
 "metadata": {
  "kernelspec": {
   "display_name": "Python 3",
   "language": "python",
   "name": "python3"
  },
  "language_info": {
   "codemirror_mode": {
    "name": "ipython",
    "version": 3
   },
   "file_extension": ".py",
   "mimetype": "text/x-python",
   "name": "python",
   "nbconvert_exporter": "python",
   "pygments_lexer": "ipython3",
   "version": "3.8.3"
  }
 },
 "nbformat": 4,
 "nbformat_minor": 2
}
