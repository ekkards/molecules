{
  "nbformat": 4,
  "nbformat_minor": 0,
  "metadata": {
    "kernelspec": {
      "display_name": "Python 3",
      "language": "python",
      "name": "python3"
    },
    "language_info": {
      "codemirror_mode": {
        "name": "ipython",
        "version": 3
      },
      "file_extension": ".py",
      "mimetype": "text/x-python",
      "name": "python",
      "nbconvert_exporter": "python",
      "pygments_lexer": "ipython3",
      "version": "3.8.3"
    },
    "colab": {
      "name": "Kopie von LiH_trotter.ipynb",
      "provenance": [],
      "toc_visible": true,
      "include_colab_link": true
    }
  },
  "cells": [
    {
      "cell_type": "markdown",
      "metadata": {
        "id": "view-in-github",
        "colab_type": "text"
      },
      "source": [
        "<a href=\"https://colab.research.google.com/github/ekkards/molecules/blob/master/LiH_trotter_colab.ipynb\" target=\"_parent\"><img src=\"https://colab.research.google.com/assets/colab-badge.svg\" alt=\"Open In Colab\"/></a>"
      ]
    },
    {
      "cell_type": "markdown",
      "metadata": {
        "id": "CKGqNZwyrqgl",
        "colab_type": "text"
      },
      "source": [
        "# LiH molecule\n",
        "\n",
        "## Origin of this method: Low rank decomposition of the Coulomb operator\n",
        " \"Low rank representations for quantum simulation of electronic structure\"\n",
        "Mario Motta, Erika Ye, Jarrod R. McClean, Zhendong Li, Austin J. Minnich, Ryan Babbush, Garnet Kin-Lic Chan\n",
        "https://arxiv.org/abs/1808.02625\n",
        "\n",
        "The code is adapted from OpenFermion-Cirq Tutorial III: Low rank, arbitrary basis molecular simulations https://github.com/quantumlib/OpenFermion-Cirq/blob/master/examples/tutorial_3_arbitrary_basis_trotter.ipynb\n",
        "\n",
        "In Tutorial III both of those techniques are combined, along with some insights from electronic structure,\n",
        "to simulate a Trotter step under the arbitrary basis two-body operator as\n",
        "$$\n",
        "\\prod_{\\ell=0}^{L-1} R_\\ell \\exp\\left(-i\\sum_{pq} f_{\\ell p} f_{\\ell q} a^\\dagger_p a_p a^\\dagger_q a_q\\right) R_\\ell^\\dagger\n",
        "$$\n",
        "where we note that the operator in the exponential take the form of a diagonal Coulomb operator. Since we can implement the $R_\\ell$ circuits in $O(N)$ depth (see Tutorial I) and we can implement Trotter steps under diagonal Coulomb operators in $O(N)$ layers of gates (see Tutorial II) we see that we can implement Trotter steps under arbitrary basis electronic structure Hamiltionians in $O(L N) = O(N^2)$ depth, and all on a linearly connected device.\n",
        "\n",
        "## Example implementation: Trotter steps of LiH in molecular orbital basis\n",
        "\n",
        "We will now use these techniques to implement Trotter steps for an actual molecule. We will focus on LiH at equilibrium geometry, since integrals for that system are provided with every OpenFermion installation. However, by installing [OpenFermion-PySCF](https://github.com/quantumlib/OpenFermion-PySCF) or [OpenFermion-Psi4](https://github.com/quantumlib/OpenFermion-Psi4) one can use these techniques for any molecule at any geometry. We will generate LiH in an active space consisting of 4 qubits. First, we obtain the Hamiltonian as an InteractionOperator."
      ]
    },
    {
      "cell_type": "code",
      "metadata": {
        "id": "DpV_T5Zlrqgn",
        "colab_type": "code",
        "colab": {
          "base_uri": "https://localhost:8080/",
          "height": 1000
        },
        "outputId": "125d4669-2b55-4c07-c443-19f2417935e4"
      },
      "source": [
        "!pip install openfermion\n",
        "import openfermion\n",
        "\n",
        "# Set Hamiltonian parameters for LiH simulation in active space.\n",
        "diatomic_bond_length = 1.45\n",
        "geometry = [('Li', (0., 0., 0.)), ('H', (0., 0., diatomic_bond_length))]\n",
        "basis = 'sto-3g'\n",
        "multiplicity = 1\n",
        "active_space_start = 1\n",
        "active_space_stop = 3\n",
        "\n",
        "# Generate and populate instance of MolecularData.\n",
        "molecule = openfermion.MolecularData(geometry, basis, multiplicity, description=\"1.45\")\n",
        "molecule.load()\n",
        "\n",
        "# Get the Hamiltonian in an active space.\n",
        "molecular_hamiltonian = molecule.get_molecular_hamiltonian(\n",
        "    occupied_indices=range(active_space_start),\n",
        "    active_indices=range(active_space_start, active_space_stop))\n",
        "\n",
        "print(\"Molecular Hamiltonian with 1 constant and {} 1-body and {} 2-body tensor terms\"\n",
        "        .format(molecular_hamiltonian.one_body_tensor.size, \n",
        "                molecular_hamiltonian.two_body_tensor.size))\n",
        "\n",
        "# obtain the Hamiltonian as matrix\n",
        "hamiltonian_sparse = openfermion.get_sparse_operator(molecular_hamiltonian)\n",
        "LiH_matrix = hamiltonian_sparse.todense()\n",
        "print(\"Hamiltonian matrix as {} from which {} are not null\"\n",
        "      .format( LiH_matrix.shape, hamiltonian_sparse.nnz))\n",
        "\n",
        "# solve for eigenvalues by matrix algorithms\n",
        "from scipy.linalg import eigh\n",
        "eigenvalues , eigenvectors = eigh(LiH_matrix)\n",
        "print(\"Eigenvalues  (Energies)\\n\", eigenvalues.round(6))\n",
        "print(\"Eigenvectors (Orbitals)\\n\", eigenvectors.real.round(1))"
      ],
      "execution_count": 1,
      "outputs": [
        {
          "output_type": "stream",
          "text": [
            "Collecting openfermion\n",
            "\u001b[?25l  Downloading https://files.pythonhosted.org/packages/94/d8/b664fd4665d2e7ad1b018c0121bf798473bb291602b04c0fefbe987ea2fa/openfermion-0.11.0.tar.gz (631kB)\n",
            "\r\u001b[K     |▌                               | 10kB 19.3MB/s eta 0:00:01\r\u001b[K     |█                               | 20kB 3.1MB/s eta 0:00:01\r\u001b[K     |█▋                              | 30kB 4.1MB/s eta 0:00:01\r\u001b[K     |██                              | 40kB 4.5MB/s eta 0:00:01\r\u001b[K     |██▋                             | 51kB 3.6MB/s eta 0:00:01\r\u001b[K     |███▏                            | 61kB 3.9MB/s eta 0:00:01\r\u001b[K     |███▋                            | 71kB 4.2MB/s eta 0:00:01\r\u001b[K     |████▏                           | 81kB 4.6MB/s eta 0:00:01\r\u001b[K     |████▊                           | 92kB 4.9MB/s eta 0:00:01\r\u001b[K     |█████▏                          | 102kB 4.9MB/s eta 0:00:01\r\u001b[K     |█████▊                          | 112kB 4.9MB/s eta 0:00:01\r\u001b[K     |██████▎                         | 122kB 4.9MB/s eta 0:00:01\r\u001b[K     |██████▊                         | 133kB 4.9MB/s eta 0:00:01\r\u001b[K     |███████▎                        | 143kB 4.9MB/s eta 0:00:01\r\u001b[K     |███████▉                        | 153kB 4.9MB/s eta 0:00:01\r\u001b[K     |████████▎                       | 163kB 4.9MB/s eta 0:00:01\r\u001b[K     |████████▉                       | 174kB 4.9MB/s eta 0:00:01\r\u001b[K     |█████████▍                      | 184kB 4.9MB/s eta 0:00:01\r\u001b[K     |█████████▉                      | 194kB 4.9MB/s eta 0:00:01\r\u001b[K     |██████████▍                     | 204kB 4.9MB/s eta 0:00:01\r\u001b[K     |███████████                     | 215kB 4.9MB/s eta 0:00:01\r\u001b[K     |███████████▍                    | 225kB 4.9MB/s eta 0:00:01\r\u001b[K     |████████████                    | 235kB 4.9MB/s eta 0:00:01\r\u001b[K     |████████████▌                   | 245kB 4.9MB/s eta 0:00:01\r\u001b[K     |█████████████                   | 256kB 4.9MB/s eta 0:00:01\r\u001b[K     |█████████████▌                  | 266kB 4.9MB/s eta 0:00:01\r\u001b[K     |██████████████                  | 276kB 4.9MB/s eta 0:00:01\r\u001b[K     |██████████████▌                 | 286kB 4.9MB/s eta 0:00:01\r\u001b[K     |███████████████                 | 296kB 4.9MB/s eta 0:00:01\r\u001b[K     |███████████████▋                | 307kB 4.9MB/s eta 0:00:01\r\u001b[K     |████████████████                | 317kB 4.9MB/s eta 0:00:01\r\u001b[K     |████████████████▋               | 327kB 4.9MB/s eta 0:00:01\r\u001b[K     |█████████████████▏              | 337kB 4.9MB/s eta 0:00:01\r\u001b[K     |█████████████████▋              | 348kB 4.9MB/s eta 0:00:01\r\u001b[K     |██████████████████▏             | 358kB 4.9MB/s eta 0:00:01\r\u001b[K     |██████████████████▊             | 368kB 4.9MB/s eta 0:00:01\r\u001b[K     |███████████████████▏            | 378kB 4.9MB/s eta 0:00:01\r\u001b[K     |███████████████████▊            | 389kB 4.9MB/s eta 0:00:01\r\u001b[K     |████████████████████▎           | 399kB 4.9MB/s eta 0:00:01\r\u001b[K     |████████████████████▊           | 409kB 4.9MB/s eta 0:00:01\r\u001b[K     |█████████████████████▎          | 419kB 4.9MB/s eta 0:00:01\r\u001b[K     |█████████████████████▉          | 430kB 4.9MB/s eta 0:00:01\r\u001b[K     |██████████████████████▎         | 440kB 4.9MB/s eta 0:00:01\r\u001b[K     |██████████████████████▉         | 450kB 4.9MB/s eta 0:00:01\r\u001b[K     |███████████████████████▍        | 460kB 4.9MB/s eta 0:00:01\r\u001b[K     |███████████████████████▉        | 471kB 4.9MB/s eta 0:00:01\r\u001b[K     |████████████████████████▍       | 481kB 4.9MB/s eta 0:00:01\r\u001b[K     |█████████████████████████       | 491kB 4.9MB/s eta 0:00:01\r\u001b[K     |█████████████████████████▍      | 501kB 4.9MB/s eta 0:00:01\r\u001b[K     |██████████████████████████      | 512kB 4.9MB/s eta 0:00:01\r\u001b[K     |██████████████████████████▌     | 522kB 4.9MB/s eta 0:00:01\r\u001b[K     |███████████████████████████     | 532kB 4.9MB/s eta 0:00:01\r\u001b[K     |███████████████████████████▌    | 542kB 4.9MB/s eta 0:00:01\r\u001b[K     |████████████████████████████    | 552kB 4.9MB/s eta 0:00:01\r\u001b[K     |████████████████████████████▌   | 563kB 4.9MB/s eta 0:00:01\r\u001b[K     |█████████████████████████████   | 573kB 4.9MB/s eta 0:00:01\r\u001b[K     |█████████████████████████████▋  | 583kB 4.9MB/s eta 0:00:01\r\u001b[K     |██████████████████████████████  | 593kB 4.9MB/s eta 0:00:01\r\u001b[K     |██████████████████████████████▋ | 604kB 4.9MB/s eta 0:00:01\r\u001b[K     |███████████████████████████████▏| 614kB 4.9MB/s eta 0:00:01\r\u001b[K     |███████████████████████████████▋| 624kB 4.9MB/s eta 0:00:01\r\u001b[K     |████████████████████████████████| 634kB 4.9MB/s \n",
            "\u001b[?25hRequirement already satisfied: numpy>=1.11.0 in /usr/local/lib/python3.6/dist-packages (from openfermion) (1.18.5)\n",
            "Requirement already satisfied: scipy>=1.1.0 in /usr/local/lib/python3.6/dist-packages (from openfermion) (1.4.1)\n",
            "Requirement already satisfied: h5py>=2.8 in /usr/local/lib/python3.6/dist-packages (from openfermion) (2.10.0)\n",
            "Requirement already satisfied: networkx in /usr/local/lib/python3.6/dist-packages (from openfermion) (2.4)\n",
            "Collecting pubchempy\n",
            "  Downloading https://files.pythonhosted.org/packages/aa/fb/8de3aa9804b614dbc8dc5c16ed061d819cc360e0ddecda3dcd01c1552339/PubChemPy-1.0.4.tar.gz\n",
            "Requirement already satisfied: requests~=2.18 in /usr/local/lib/python3.6/dist-packages (from openfermion) (2.23.0)\n",
            "Requirement already satisfied: six in /usr/local/lib/python3.6/dist-packages (from h5py>=2.8->openfermion) (1.12.0)\n",
            "Requirement already satisfied: decorator>=4.3.0 in /usr/local/lib/python3.6/dist-packages (from networkx->openfermion) (4.4.2)\n",
            "Requirement already satisfied: certifi>=2017.4.17 in /usr/local/lib/python3.6/dist-packages (from requests~=2.18->openfermion) (2020.6.20)\n",
            "Requirement already satisfied: idna<3,>=2.5 in /usr/local/lib/python3.6/dist-packages (from requests~=2.18->openfermion) (2.9)\n",
            "Requirement already satisfied: chardet<4,>=3.0.2 in /usr/local/lib/python3.6/dist-packages (from requests~=2.18->openfermion) (3.0.4)\n",
            "Requirement already satisfied: urllib3!=1.25.0,!=1.25.1,<1.26,>=1.21.1 in /usr/local/lib/python3.6/dist-packages (from requests~=2.18->openfermion) (1.24.3)\n",
            "Building wheels for collected packages: openfermion, pubchempy\n",
            "  Building wheel for openfermion (setup.py) ... \u001b[?25l\u001b[?25hdone\n",
            "  Created wheel for openfermion: filename=openfermion-0.11.0-cp36-none-any.whl size=741938 sha256=4ebf0ddf066f81ed57c607ad5cdfa7388f0b8f92594549495f559e7ad3ce8fb4\n",
            "  Stored in directory: /root/.cache/pip/wheels/83/78/92/3b9f9fdf47e6cd9d987fe83f48c7866abfb5e25df9cdbc5f0c\n",
            "  Building wheel for pubchempy (setup.py) ... \u001b[?25l\u001b[?25hdone\n",
            "  Created wheel for pubchempy: filename=PubChemPy-1.0.4-cp36-none-any.whl size=13825 sha256=c7375839b49c941bd0131d0bd69b57de9527df9a8cf972408b88b3f6960a3822\n",
            "  Stored in directory: /root/.cache/pip/wheels/10/4d/51/6b843681a9a5aef35f0d0fbce243de46f85080036e16118752\n",
            "Successfully built openfermion pubchempy\n",
            "Installing collected packages: pubchempy, openfermion\n",
            "Successfully installed openfermion-0.11.0 pubchempy-1.0.4\n",
            "Molecular Hamiltonian with 1 constant and 16 1-body and 256 2-body tensor terms\n",
            "Hamiltonian matrix as (16, 16) from which 36 are not null\n",
            "Eigenvalues  (Energies)\n",
            " [-7.862773 -7.783396 -7.783396 -7.714057 -7.714057 -7.714057 -7.700476\n",
            " -7.569985 -7.569985 -7.512    -7.512    -7.364817 -7.151525 -7.130407\n",
            " -7.130407 -6.769813]\n",
            "Eigenvectors (Orbitals)\n",
            " [[ 0.   0.   0.   0.   0.   0.   0.   0.   0.   0.   0.   0.   0.   0.\n",
            "   0.   1. ]\n",
            " [ 0.   0.   0.   0.   0.   0.   0.   0.   0.1  0.   0.   0.   0.   1.\n",
            "   0.1  0. ]\n",
            " [ 0.   0.   0.   0.   0.   0.   0.   0.1 -0.   0.   0.   0.   0.  -0.1\n",
            "   1.   0. ]\n",
            " [ 0.   0.  -0.   0.   0.   0.  -0.1  0.   0.  -0.  -0.   0.   1.   0.\n",
            "   0.   0. ]\n",
            " [ 0.   0.   0.   0.   0.   0.   0.  -0.1 -1.   0.   0.   0.   0.   0.1\n",
            "   0.   0. ]\n",
            " [ 0.   0.   0.   1.   0.   0.   0.   0.   0.   0.   0.   0.   0.   0.\n",
            "   0.   0. ]\n",
            " [ 0.   0.   0.   0.   0.7  0.  -0.7  0.   0.   0.   0.   0.  -0.1  0.\n",
            "   0.   0. ]\n",
            " [-0.  -0.  -0.   0.   0.   0.   0.   0.   0.  -0.  -1.   0.  -0.   0.\n",
            "   0.   0. ]\n",
            " [ 0.   0.   0.   0.   0.   0.   0.  -1.   0.1  0.   0.   0.   0.  -0.\n",
            "   0.1  0. ]\n",
            " [-0.  -0.   0.   0.   0.7 -0.   0.7  0.   0.   0.   0.   0.   0.1  0.\n",
            "   0.   0. ]\n",
            " [-0.  -0.   0.   0.  -0.   1.  -0.   0.   0.   0.   0.   0.   0.   0.\n",
            "   0.   0. ]\n",
            " [ 0.   0.   0.   0.   0.  -0.   0.   0.   0.   1.   0.   0.   0.   0.\n",
            "   0.   0. ]\n",
            " [-1.   0.   0.   0.  -0.  -0.  -0.   0.   0.   0.   0.   0.   0.   0.\n",
            "   0.   0. ]\n",
            " [-0.  -1.   0.   0.  -0.  -0.  -0.   0.   0.   0.   0.   0.   0.   0.\n",
            "   0.   0. ]\n",
            " [ 0.   0.   1.   0.   0.  -0.   0.   0.   0.  -0.   0.   0.   0.   0.\n",
            "   0.   0. ]\n",
            " [ 0.   0.   0.   0.   0.   0.   0.   0.   0.   0.   0.   1.   0.   0.\n",
            "   0.   0. ]]\n"
          ],
          "name": "stdout"
        }
      ]
    },
    {
      "cell_type": "markdown",
      "metadata": {
        "id": "xyKawvRNrqgq",
        "colab_type": "text"
      },
      "source": [
        "We are not yet aiming for chemical accuracy. We could check the Hamiltonian' eigenvalues with experimental data or compare to other computations from https://cccbdb.nist.gov/energy2.asp \n",
        "However, in the example the molecule integrals are provided by OpenFermion only for $1,45 \\mathring{A}$. If you look up the experimental geometry (correct for the Born-Openheimer approximation), $r_{LiH} = 1.595 \\mathring{A}$ for $^7Li$ https://cccbdb.nist.gov/expgeom2.asp.\n",
        "\n",
        "You can see that the matrix calculation would result in exponential runtimes for larger systems. We convert the Hamiltonian for simulation with a quantum computer into the so-called \"second quantized\" operator form, as was shown in Tutorial II.\n",
        "$$\n",
        "H = \\sum_{pq} T_{pq} a^\\dagger_p a_q + \\sum_{pq} V_{pq} a^\\dagger_p a_p a^\\dagger_q a_q.\n",
        "$$"
      ]
    },
    {
      "cell_type": "code",
      "metadata": {
        "id": "1BsBsVDtrqgr",
        "colab_type": "code",
        "colab": {
          "base_uri": "https://localhost:8080/",
          "height": 34
        },
        "outputId": "0cc15fc6-d66e-4540-ce82-b23f5dd63cdc"
      },
      "source": [
        "fermion_operator = openfermion.get_fermion_operator(molecular_hamiltonian)\n",
        "print(\"Fermionic Hamiltonian with {} terms\".format( len(fermion_operator.terms)))\n",
        "#print(fermion_operator)"
      ],
      "execution_count": 2,
      "outputs": [
        {
          "output_type": "stream",
          "text": [
            "Fermionic Hamiltonian with 73 terms\n"
          ],
          "name": "stdout"
        }
      ]
    },
    {
      "cell_type": "markdown",
      "metadata": {
        "id": "tIl8XRq6rqgu",
        "colab_type": "text"
      },
      "source": [
        "We see from the above output that this is a fairly complex Hamiltonian already. Next we will use the `simulate_trotter` function from Tutorial I, but this time with the built-in `LOW_RANK` Trotter step type, associated with these low rank techniques.\n",
        "\n",
        "Next we setup the simulation environment with qubits on a line."
      ]
    },
    {
      "cell_type": "code",
      "metadata": {
        "id": "6sFl_We7rqgu",
        "colab_type": "code",
        "colab": {
          "base_uri": "https://localhost:8080/",
          "height": 1000
        },
        "outputId": "7198015d-9f7d-4b66-8bac-eb59c6377802"
      },
      "source": [
        "!pip install cirq\n",
        "!pip install openfermioncirq\n",
        "import cirq\n",
        "import openfermioncirq\n",
        "from openfermioncirq import trotter\n",
        "\n",
        "# Trotter step parameters.\n",
        "time = 1.\n",
        "final_rank = 2\n",
        "\n",
        "# Initialize circuit qubits in a line.\n",
        "n_qubits = openfermion.count_qubits(molecular_hamiltonian)\n",
        "qubits = cirq.LineQubit.range(n_qubits)"
      ],
      "execution_count": 3,
      "outputs": [
        {
          "output_type": "stream",
          "text": [
            "Collecting cirq\n",
            "\u001b[?25l  Downloading https://files.pythonhosted.org/packages/a2/a4/2bcd91b3d99f34482d43ec3fbd1399105c8e61b78606ce907b019bb0135c/cirq-0.8.1-py3-none-any.whl (1.4MB)\n",
            "\r\u001b[K     |▎                               | 10kB 15.4MB/s eta 0:00:01\r\u001b[K     |▌                               | 20kB 3.1MB/s eta 0:00:01\r\u001b[K     |▊                               | 30kB 3.8MB/s eta 0:00:01\r\u001b[K     |█                               | 40kB 4.1MB/s eta 0:00:01\r\u001b[K     |█▏                              | 51kB 3.6MB/s eta 0:00:01\r\u001b[K     |█▍                              | 61kB 3.8MB/s eta 0:00:01\r\u001b[K     |█▋                              | 71kB 4.3MB/s eta 0:00:01\r\u001b[K     |██                              | 81kB 4.5MB/s eta 0:00:01\r\u001b[K     |██▏                             | 92kB 4.5MB/s eta 0:00:01\r\u001b[K     |██▍                             | 102kB 4.7MB/s eta 0:00:01\r\u001b[K     |██▋                             | 112kB 4.7MB/s eta 0:00:01\r\u001b[K     |██▉                             | 122kB 4.7MB/s eta 0:00:01\r\u001b[K     |███                             | 133kB 4.7MB/s eta 0:00:01\r\u001b[K     |███▎                            | 143kB 4.7MB/s eta 0:00:01\r\u001b[K     |███▌                            | 153kB 4.7MB/s eta 0:00:01\r\u001b[K     |███▉                            | 163kB 4.7MB/s eta 0:00:01\r\u001b[K     |████                            | 174kB 4.7MB/s eta 0:00:01\r\u001b[K     |████▎                           | 184kB 4.7MB/s eta 0:00:01\r\u001b[K     |████▌                           | 194kB 4.7MB/s eta 0:00:01\r\u001b[K     |████▊                           | 204kB 4.7MB/s eta 0:00:01\r\u001b[K     |█████                           | 215kB 4.7MB/s eta 0:00:01\r\u001b[K     |█████▏                          | 225kB 4.7MB/s eta 0:00:01\r\u001b[K     |█████▍                          | 235kB 4.7MB/s eta 0:00:01\r\u001b[K     |█████▊                          | 245kB 4.7MB/s eta 0:00:01\r\u001b[K     |██████                          | 256kB 4.7MB/s eta 0:00:01\r\u001b[K     |██████▏                         | 266kB 4.7MB/s eta 0:00:01\r\u001b[K     |██████▍                         | 276kB 4.7MB/s eta 0:00:01\r\u001b[K     |██████▋                         | 286kB 4.7MB/s eta 0:00:01\r\u001b[K     |██████▉                         | 296kB 4.7MB/s eta 0:00:01\r\u001b[K     |███████                         | 307kB 4.7MB/s eta 0:00:01\r\u001b[K     |███████▍                        | 317kB 4.7MB/s eta 0:00:01\r\u001b[K     |███████▋                        | 327kB 4.7MB/s eta 0:00:01\r\u001b[K     |███████▉                        | 337kB 4.7MB/s eta 0:00:01\r\u001b[K     |████████                        | 348kB 4.7MB/s eta 0:00:01\r\u001b[K     |████████▎                       | 358kB 4.7MB/s eta 0:00:01\r\u001b[K     |████████▌                       | 368kB 4.7MB/s eta 0:00:01\r\u001b[K     |████████▊                       | 378kB 4.7MB/s eta 0:00:01\r\u001b[K     |█████████                       | 389kB 4.7MB/s eta 0:00:01\r\u001b[K     |█████████▎                      | 399kB 4.7MB/s eta 0:00:01\r\u001b[K     |█████████▌                      | 409kB 4.7MB/s eta 0:00:01\r\u001b[K     |█████████▊                      | 419kB 4.7MB/s eta 0:00:01\r\u001b[K     |██████████                      | 430kB 4.7MB/s eta 0:00:01\r\u001b[K     |██████████▏                     | 440kB 4.7MB/s eta 0:00:01\r\u001b[K     |██████████▍                     | 450kB 4.7MB/s eta 0:00:01\r\u001b[K     |██████████▋                     | 460kB 4.7MB/s eta 0:00:01\r\u001b[K     |██████████▉                     | 471kB 4.7MB/s eta 0:00:01\r\u001b[K     |███████████▏                    | 481kB 4.7MB/s eta 0:00:01\r\u001b[K     |███████████▍                    | 491kB 4.7MB/s eta 0:00:01\r\u001b[K     |███████████▋                    | 501kB 4.7MB/s eta 0:00:01\r\u001b[K     |███████████▉                    | 512kB 4.7MB/s eta 0:00:01\r\u001b[K     |████████████                    | 522kB 4.7MB/s eta 0:00:01\r\u001b[K     |████████████▎                   | 532kB 4.7MB/s eta 0:00:01\r\u001b[K     |████████████▌                   | 542kB 4.7MB/s eta 0:00:01\r\u001b[K     |████████████▉                   | 552kB 4.7MB/s eta 0:00:01\r\u001b[K     |█████████████                   | 563kB 4.7MB/s eta 0:00:01\r\u001b[K     |█████████████▎                  | 573kB 4.7MB/s eta 0:00:01\r\u001b[K     |█████████████▌                  | 583kB 4.7MB/s eta 0:00:01\r\u001b[K     |█████████████▊                  | 593kB 4.7MB/s eta 0:00:01\r\u001b[K     |██████████████                  | 604kB 4.7MB/s eta 0:00:01\r\u001b[K     |██████████████▏                 | 614kB 4.7MB/s eta 0:00:01\r\u001b[K     |██████████████▍                 | 624kB 4.7MB/s eta 0:00:01\r\u001b[K     |██████████████▊                 | 634kB 4.7MB/s eta 0:00:01\r\u001b[K     |███████████████                 | 645kB 4.7MB/s eta 0:00:01\r\u001b[K     |███████████████▏                | 655kB 4.7MB/s eta 0:00:01\r\u001b[K     |███████████████▍                | 665kB 4.7MB/s eta 0:00:01\r\u001b[K     |███████████████▋                | 675kB 4.7MB/s eta 0:00:01\r\u001b[K     |███████████████▉                | 686kB 4.7MB/s eta 0:00:01\r\u001b[K     |████████████████                | 696kB 4.7MB/s eta 0:00:01\r\u001b[K     |████████████████▎               | 706kB 4.7MB/s eta 0:00:01\r\u001b[K     |████████████████▋               | 716kB 4.7MB/s eta 0:00:01\r\u001b[K     |████████████████▉               | 727kB 4.7MB/s eta 0:00:01\r\u001b[K     |█████████████████               | 737kB 4.7MB/s eta 0:00:01\r\u001b[K     |█████████████████▎              | 747kB 4.7MB/s eta 0:00:01\r\u001b[K     |█████████████████▌              | 757kB 4.7MB/s eta 0:00:01\r\u001b[K     |█████████████████▊              | 768kB 4.7MB/s eta 0:00:01\r\u001b[K     |██████████████████              | 778kB 4.7MB/s eta 0:00:01\r\u001b[K     |██████████████████▏             | 788kB 4.7MB/s eta 0:00:01\r\u001b[K     |██████████████████▌             | 798kB 4.7MB/s eta 0:00:01\r\u001b[K     |██████████████████▊             | 808kB 4.7MB/s eta 0:00:01\r\u001b[K     |███████████████████             | 819kB 4.7MB/s eta 0:00:01\r\u001b[K     |███████████████████▏            | 829kB 4.7MB/s eta 0:00:01\r\u001b[K     |███████████████████▍            | 839kB 4.7MB/s eta 0:00:01\r\u001b[K     |███████████████████▋            | 849kB 4.7MB/s eta 0:00:01\r\u001b[K     |███████████████████▉            | 860kB 4.7MB/s eta 0:00:01\r\u001b[K     |████████████████████▏           | 870kB 4.7MB/s eta 0:00:01\r\u001b[K     |████████████████████▍           | 880kB 4.7MB/s eta 0:00:01\r\u001b[K     |████████████████████▋           | 890kB 4.7MB/s eta 0:00:01\r\u001b[K     |████████████████████▉           | 901kB 4.7MB/s eta 0:00:01\r\u001b[K     |█████████████████████           | 911kB 4.7MB/s eta 0:00:01\r\u001b[K     |█████████████████████▎          | 921kB 4.7MB/s eta 0:00:01\r\u001b[K     |█████████████████████▌          | 931kB 4.7MB/s eta 0:00:01\r\u001b[K     |█████████████████████▊          | 942kB 4.7MB/s eta 0:00:01\r\u001b[K     |██████████████████████          | 952kB 4.7MB/s eta 0:00:01\r\u001b[K     |██████████████████████▎         | 962kB 4.7MB/s eta 0:00:01\r\u001b[K     |██████████████████████▌         | 972kB 4.7MB/s eta 0:00:01\r\u001b[K     |██████████████████████▊         | 983kB 4.7MB/s eta 0:00:01\r\u001b[K     |███████████████████████         | 993kB 4.7MB/s eta 0:00:01\r\u001b[K     |███████████████████████▏        | 1.0MB 4.7MB/s eta 0:00:01\r\u001b[K     |███████████████████████▍        | 1.0MB 4.7MB/s eta 0:00:01\r\u001b[K     |███████████████████████▋        | 1.0MB 4.7MB/s eta 0:00:01\r\u001b[K     |████████████████████████        | 1.0MB 4.7MB/s eta 0:00:01\r\u001b[K     |████████████████████████▏       | 1.0MB 4.7MB/s eta 0:00:01\r\u001b[K     |████████████████████████▍       | 1.1MB 4.7MB/s eta 0:00:01\r\u001b[K     |████████████████████████▋       | 1.1MB 4.7MB/s eta 0:00:01\r\u001b[K     |████████████████████████▉       | 1.1MB 4.7MB/s eta 0:00:01\r\u001b[K     |█████████████████████████       | 1.1MB 4.7MB/s eta 0:00:01\r\u001b[K     |█████████████████████████▎      | 1.1MB 4.7MB/s eta 0:00:01\r\u001b[K     |█████████████████████████▋      | 1.1MB 4.7MB/s eta 0:00:01\r\u001b[K     |█████████████████████████▉      | 1.1MB 4.7MB/s eta 0:00:01\r\u001b[K     |██████████████████████████      | 1.1MB 4.7MB/s eta 0:00:01\r\u001b[K     |██████████████████████████▎     | 1.1MB 4.7MB/s eta 0:00:01\r\u001b[K     |██████████████████████████▌     | 1.1MB 4.7MB/s eta 0:00:01\r\u001b[K     |██████████████████████████▊     | 1.2MB 4.7MB/s eta 0:00:01\r\u001b[K     |███████████████████████████     | 1.2MB 4.7MB/s eta 0:00:01\r\u001b[K     |███████████████████████████▏    | 1.2MB 4.7MB/s eta 0:00:01\r\u001b[K     |███████████████████████████▌    | 1.2MB 4.7MB/s eta 0:00:01\r\u001b[K     |███████████████████████████▊    | 1.2MB 4.7MB/s eta 0:00:01\r\u001b[K     |████████████████████████████    | 1.2MB 4.7MB/s eta 0:00:01\r\u001b[K     |████████████████████████████▏   | 1.2MB 4.7MB/s eta 0:00:01\r\u001b[K     |████████████████████████████▍   | 1.2MB 4.7MB/s eta 0:00:01\r\u001b[K     |████████████████████████████▋   | 1.2MB 4.7MB/s eta 0:00:01\r\u001b[K     |████████████████████████████▉   | 1.2MB 4.7MB/s eta 0:00:01\r\u001b[K     |█████████████████████████████   | 1.3MB 4.7MB/s eta 0:00:01\r\u001b[K     |█████████████████████████████▍  | 1.3MB 4.7MB/s eta 0:00:01\r\u001b[K     |█████████████████████████████▋  | 1.3MB 4.7MB/s eta 0:00:01\r\u001b[K     |█████████████████████████████▉  | 1.3MB 4.7MB/s eta 0:00:01\r\u001b[K     |██████████████████████████████  | 1.3MB 4.7MB/s eta 0:00:01\r\u001b[K     |██████████████████████████████▎ | 1.3MB 4.7MB/s eta 0:00:01\r\u001b[K     |██████████████████████████████▌ | 1.3MB 4.7MB/s eta 0:00:01\r\u001b[K     |██████████████████████████████▊ | 1.3MB 4.7MB/s eta 0:00:01\r\u001b[K     |███████████████████████████████ | 1.3MB 4.7MB/s eta 0:00:01\r\u001b[K     |███████████████████████████████▎| 1.4MB 4.7MB/s eta 0:00:01\r\u001b[K     |███████████████████████████████▌| 1.4MB 4.7MB/s eta 0:00:01\r\u001b[K     |███████████████████████████████▊| 1.4MB 4.7MB/s eta 0:00:01\r\u001b[K     |████████████████████████████████| 1.4MB 4.7MB/s eta 0:00:01\r\u001b[K     |████████████████████████████████| 1.4MB 4.7MB/s \n",
            "\u001b[?25hRequirement already satisfied: google-api-core[grpc]<2.0.0dev,>=1.14.0 in /usr/local/lib/python3.6/dist-packages (from cirq) (1.16.0)\n",
            "Requirement already satisfied: matplotlib~=3.0 in /usr/local/lib/python3.6/dist-packages (from cirq) (3.2.2)\n",
            "Requirement already satisfied: numpy~=1.16 in /usr/local/lib/python3.6/dist-packages (from cirq) (1.18.5)\n",
            "Collecting protobuf==3.8.0\n",
            "\u001b[?25l  Downloading https://files.pythonhosted.org/packages/d2/fb/29de8d08967f0cce1bb10b39846d836b0f3bf6776ddc36aed7c73498ca7e/protobuf-3.8.0-cp36-cp36m-manylinux1_x86_64.whl (1.2MB)\n",
            "\u001b[K     |████████████████████████████████| 1.2MB 25.2MB/s \n",
            "\u001b[?25hRequirement already satisfied: networkx~=2.4 in /usr/local/lib/python3.6/dist-packages (from cirq) (2.4)\n",
            "Requirement already satisfied: requests~=2.18 in /usr/local/lib/python3.6/dist-packages (from cirq) (2.23.0)\n",
            "Requirement already satisfied: scipy in /usr/local/lib/python3.6/dist-packages (from cirq) (1.4.1)\n",
            "Requirement already satisfied: sympy in /usr/local/lib/python3.6/dist-packages (from cirq) (1.1.1)\n",
            "Requirement already satisfied: pandas in /usr/local/lib/python3.6/dist-packages (from cirq) (1.0.5)\n",
            "Requirement already satisfied: sortedcontainers~=2.0 in /usr/local/lib/python3.6/dist-packages (from cirq) (2.2.2)\n",
            "Collecting freezegun~=0.3.15\n",
            "  Downloading https://files.pythonhosted.org/packages/17/5d/1b9d6d3c7995fff473f35861d674e0113a5f0bd5a72fe0199c3f254665c7/freezegun-0.3.15-py2.py3-none-any.whl\n",
            "Requirement already satisfied: typing-extensions in /usr/local/lib/python3.6/dist-packages (from cirq) (3.6.6)\n",
            "Requirement already satisfied: dataclasses; python_version < \"3.7\" in /usr/local/lib/python3.6/dist-packages (from cirq) (0.7)\n",
            "Requirement already satisfied: setuptools>=34.0.0 in /usr/local/lib/python3.6/dist-packages (from google-api-core[grpc]<2.0.0dev,>=1.14.0->cirq) (47.3.1)\n",
            "Requirement already satisfied: googleapis-common-protos<2.0dev,>=1.6.0 in /usr/local/lib/python3.6/dist-packages (from google-api-core[grpc]<2.0.0dev,>=1.14.0->cirq) (1.52.0)\n",
            "Requirement already satisfied: six>=1.10.0 in /usr/local/lib/python3.6/dist-packages (from google-api-core[grpc]<2.0.0dev,>=1.14.0->cirq) (1.12.0)\n",
            "Requirement already satisfied: pytz in /usr/local/lib/python3.6/dist-packages (from google-api-core[grpc]<2.0.0dev,>=1.14.0->cirq) (2018.9)\n",
            "Requirement already satisfied: google-auth<2.0dev,>=0.4.0 in /usr/local/lib/python3.6/dist-packages (from google-api-core[grpc]<2.0.0dev,>=1.14.0->cirq) (1.17.2)\n",
            "Requirement already satisfied: grpcio<2.0dev,>=1.8.2; extra == \"grpc\" in /usr/local/lib/python3.6/dist-packages (from google-api-core[grpc]<2.0.0dev,>=1.14.0->cirq) (1.30.0)\n",
            "Requirement already satisfied: python-dateutil>=2.1 in /usr/local/lib/python3.6/dist-packages (from matplotlib~=3.0->cirq) (2.8.1)\n",
            "Requirement already satisfied: pyparsing!=2.0.4,!=2.1.2,!=2.1.6,>=2.0.1 in /usr/local/lib/python3.6/dist-packages (from matplotlib~=3.0->cirq) (2.4.7)\n",
            "Requirement already satisfied: cycler>=0.10 in /usr/local/lib/python3.6/dist-packages (from matplotlib~=3.0->cirq) (0.10.0)\n",
            "Requirement already satisfied: kiwisolver>=1.0.1 in /usr/local/lib/python3.6/dist-packages (from matplotlib~=3.0->cirq) (1.2.0)\n",
            "Requirement already satisfied: decorator>=4.3.0 in /usr/local/lib/python3.6/dist-packages (from networkx~=2.4->cirq) (4.4.2)\n",
            "Requirement already satisfied: certifi>=2017.4.17 in /usr/local/lib/python3.6/dist-packages (from requests~=2.18->cirq) (2020.6.20)\n",
            "Requirement already satisfied: chardet<4,>=3.0.2 in /usr/local/lib/python3.6/dist-packages (from requests~=2.18->cirq) (3.0.4)\n",
            "Requirement already satisfied: idna<3,>=2.5 in /usr/local/lib/python3.6/dist-packages (from requests~=2.18->cirq) (2.9)\n",
            "Requirement already satisfied: urllib3!=1.25.0,!=1.25.1,<1.26,>=1.21.1 in /usr/local/lib/python3.6/dist-packages (from requests~=2.18->cirq) (1.24.3)\n",
            "Requirement already satisfied: mpmath>=0.19 in /usr/local/lib/python3.6/dist-packages (from sympy->cirq) (1.1.0)\n",
            "Requirement already satisfied: rsa<5,>=3.1.4; python_version >= \"3\" in /usr/local/lib/python3.6/dist-packages (from google-auth<2.0dev,>=0.4.0->google-api-core[grpc]<2.0.0dev,>=1.14.0->cirq) (4.6)\n",
            "Requirement already satisfied: cachetools<5.0,>=2.0.0 in /usr/local/lib/python3.6/dist-packages (from google-auth<2.0dev,>=0.4.0->google-api-core[grpc]<2.0.0dev,>=1.14.0->cirq) (4.1.0)\n",
            "Requirement already satisfied: pyasn1-modules>=0.2.1 in /usr/local/lib/python3.6/dist-packages (from google-auth<2.0dev,>=0.4.0->google-api-core[grpc]<2.0.0dev,>=1.14.0->cirq) (0.2.8)\n",
            "Requirement already satisfied: pyasn1>=0.1.3 in /usr/local/lib/python3.6/dist-packages (from rsa<5,>=3.1.4; python_version >= \"3\"->google-auth<2.0dev,>=0.4.0->google-api-core[grpc]<2.0.0dev,>=1.14.0->cirq) (0.4.8)\n",
            "Installing collected packages: protobuf, freezegun, cirq\n",
            "  Found existing installation: protobuf 3.10.0\n",
            "    Uninstalling protobuf-3.10.0:\n",
            "      Successfully uninstalled protobuf-3.10.0\n",
            "Successfully installed cirq-0.8.1 freezegun-0.3.15 protobuf-3.8.0\n"
          ],
          "name": "stdout"
        },
        {
          "output_type": "display_data",
          "data": {
            "application/vnd.colab-display-data+json": {
              "pip_warning": {
                "packages": [
                  "google"
                ]
              }
            }
          },
          "metadata": {
            "tags": []
          }
        },
        {
          "output_type": "stream",
          "text": [
            "Collecting openfermioncirq\n",
            "\u001b[?25l  Downloading https://files.pythonhosted.org/packages/d0/d4/5ca71c70918a6d0df6520f0e70648840f44af2409fc079dc0350316fa729/openfermioncirq-0.4.0-py3-none-any.whl (137kB)\n",
            "\r\u001b[K     |██▍                             | 10kB 16.9MB/s eta 0:00:01\r\u001b[K     |████▊                           | 20kB 3.5MB/s eta 0:00:01\r\u001b[K     |███████▏                        | 30kB 4.5MB/s eta 0:00:01\r\u001b[K     |█████████▌                      | 40kB 4.9MB/s eta 0:00:01\r\u001b[K     |████████████                    | 51kB 3.9MB/s eta 0:00:01\r\u001b[K     |██████████████▎                 | 61kB 4.5MB/s eta 0:00:01\r\u001b[K     |████████████████▊               | 71kB 4.7MB/s eta 0:00:01\r\u001b[K     |███████████████████             | 81kB 5.0MB/s eta 0:00:01\r\u001b[K     |█████████████████████▌          | 92kB 5.3MB/s eta 0:00:01\r\u001b[K     |███████████████████████▉        | 102kB 5.2MB/s eta 0:00:01\r\u001b[K     |██████████████████████████▎     | 112kB 5.2MB/s eta 0:00:01\r\u001b[K     |████████████████████████████▋   | 122kB 5.2MB/s eta 0:00:01\r\u001b[K     |███████████████████████████████ | 133kB 5.2MB/s eta 0:00:01\r\u001b[K     |████████████████████████████████| 143kB 5.2MB/s \n",
            "\u001b[?25hRequirement already satisfied: numpy in /usr/local/lib/python3.6/dist-packages (from openfermioncirq) (1.18.5)\n",
            "Requirement already satisfied: sympy in /usr/local/lib/python3.6/dist-packages (from openfermioncirq) (1.1.1)\n",
            "Requirement already satisfied: pandas in /usr/local/lib/python3.6/dist-packages (from openfermioncirq) (1.0.5)\n",
            "Requirement already satisfied: cirq>=0.7.0 in /usr/local/lib/python3.6/dist-packages (from openfermioncirq) (0.8.1)\n",
            "Requirement already satisfied: openfermion>=0.11.0 in /usr/local/lib/python3.6/dist-packages (from openfermioncirq) (0.11.0)\n",
            "Requirement already satisfied: scipy in /usr/local/lib/python3.6/dist-packages (from openfermioncirq) (1.4.1)\n",
            "Collecting deprecation\n",
            "  Downloading https://files.pythonhosted.org/packages/02/c3/253a89ee03fc9b9682f1541728eb66db7db22148cd94f89ab22528cd1e1b/deprecation-2.1.0-py2.py3-none-any.whl\n",
            "Requirement already satisfied: mpmath>=0.19 in /usr/local/lib/python3.6/dist-packages (from sympy->openfermioncirq) (1.1.0)\n",
            "Requirement already satisfied: python-dateutil>=2.6.1 in /usr/local/lib/python3.6/dist-packages (from pandas->openfermioncirq) (2.8.1)\n",
            "Requirement already satisfied: pytz>=2017.2 in /usr/local/lib/python3.6/dist-packages (from pandas->openfermioncirq) (2018.9)\n",
            "Requirement already satisfied: matplotlib~=3.0 in /usr/local/lib/python3.6/dist-packages (from cirq>=0.7.0->openfermioncirq) (3.2.2)\n",
            "Requirement already satisfied: protobuf==3.8.0 in /usr/local/lib/python3.6/dist-packages (from cirq>=0.7.0->openfermioncirq) (3.8.0)\n",
            "Requirement already satisfied: requests~=2.18 in /usr/local/lib/python3.6/dist-packages (from cirq>=0.7.0->openfermioncirq) (2.23.0)\n",
            "Requirement already satisfied: sortedcontainers~=2.0 in /usr/local/lib/python3.6/dist-packages (from cirq>=0.7.0->openfermioncirq) (2.2.2)\n",
            "Requirement already satisfied: typing-extensions in /usr/local/lib/python3.6/dist-packages (from cirq>=0.7.0->openfermioncirq) (3.6.6)\n",
            "Requirement already satisfied: dataclasses; python_version < \"3.7\" in /usr/local/lib/python3.6/dist-packages (from cirq>=0.7.0->openfermioncirq) (0.7)\n",
            "Requirement already satisfied: google-api-core[grpc]<2.0.0dev,>=1.14.0 in /usr/local/lib/python3.6/dist-packages (from cirq>=0.7.0->openfermioncirq) (1.16.0)\n",
            "Requirement already satisfied: freezegun~=0.3.15 in /usr/local/lib/python3.6/dist-packages (from cirq>=0.7.0->openfermioncirq) (0.3.15)\n",
            "Requirement already satisfied: networkx~=2.4 in /usr/local/lib/python3.6/dist-packages (from cirq>=0.7.0->openfermioncirq) (2.4)\n",
            "Requirement already satisfied: h5py>=2.8 in /usr/local/lib/python3.6/dist-packages (from openfermion>=0.11.0->openfermioncirq) (2.10.0)\n",
            "Requirement already satisfied: pubchempy in /usr/local/lib/python3.6/dist-packages (from openfermion>=0.11.0->openfermioncirq) (1.0.4)\n",
            "Requirement already satisfied: packaging in /usr/local/lib/python3.6/dist-packages (from deprecation->openfermioncirq) (20.4)\n",
            "Requirement already satisfied: six>=1.5 in /usr/local/lib/python3.6/dist-packages (from python-dateutil>=2.6.1->pandas->openfermioncirq) (1.12.0)\n",
            "Requirement already satisfied: kiwisolver>=1.0.1 in /usr/local/lib/python3.6/dist-packages (from matplotlib~=3.0->cirq>=0.7.0->openfermioncirq) (1.2.0)\n",
            "Requirement already satisfied: cycler>=0.10 in /usr/local/lib/python3.6/dist-packages (from matplotlib~=3.0->cirq>=0.7.0->openfermioncirq) (0.10.0)\n",
            "Requirement already satisfied: pyparsing!=2.0.4,!=2.1.2,!=2.1.6,>=2.0.1 in /usr/local/lib/python3.6/dist-packages (from matplotlib~=3.0->cirq>=0.7.0->openfermioncirq) (2.4.7)\n",
            "Requirement already satisfied: setuptools in /usr/local/lib/python3.6/dist-packages (from protobuf==3.8.0->cirq>=0.7.0->openfermioncirq) (47.3.1)\n",
            "Requirement already satisfied: idna<3,>=2.5 in /usr/local/lib/python3.6/dist-packages (from requests~=2.18->cirq>=0.7.0->openfermioncirq) (2.9)\n",
            "Requirement already satisfied: urllib3!=1.25.0,!=1.25.1,<1.26,>=1.21.1 in /usr/local/lib/python3.6/dist-packages (from requests~=2.18->cirq>=0.7.0->openfermioncirq) (1.24.3)\n",
            "Requirement already satisfied: certifi>=2017.4.17 in /usr/local/lib/python3.6/dist-packages (from requests~=2.18->cirq>=0.7.0->openfermioncirq) (2020.6.20)\n",
            "Requirement already satisfied: chardet<4,>=3.0.2 in /usr/local/lib/python3.6/dist-packages (from requests~=2.18->cirq>=0.7.0->openfermioncirq) (3.0.4)\n",
            "Requirement already satisfied: google-auth<2.0dev,>=0.4.0 in /usr/local/lib/python3.6/dist-packages (from google-api-core[grpc]<2.0.0dev,>=1.14.0->cirq>=0.7.0->openfermioncirq) (1.17.2)\n",
            "Requirement already satisfied: googleapis-common-protos<2.0dev,>=1.6.0 in /usr/local/lib/python3.6/dist-packages (from google-api-core[grpc]<2.0.0dev,>=1.14.0->cirq>=0.7.0->openfermioncirq) (1.52.0)\n",
            "Requirement already satisfied: grpcio<2.0dev,>=1.8.2; extra == \"grpc\" in /usr/local/lib/python3.6/dist-packages (from google-api-core[grpc]<2.0.0dev,>=1.14.0->cirq>=0.7.0->openfermioncirq) (1.30.0)\n",
            "Requirement already satisfied: decorator>=4.3.0 in /usr/local/lib/python3.6/dist-packages (from networkx~=2.4->cirq>=0.7.0->openfermioncirq) (4.4.2)\n",
            "Requirement already satisfied: cachetools<5.0,>=2.0.0 in /usr/local/lib/python3.6/dist-packages (from google-auth<2.0dev,>=0.4.0->google-api-core[grpc]<2.0.0dev,>=1.14.0->cirq>=0.7.0->openfermioncirq) (4.1.0)\n",
            "Requirement already satisfied: rsa<5,>=3.1.4; python_version >= \"3\" in /usr/local/lib/python3.6/dist-packages (from google-auth<2.0dev,>=0.4.0->google-api-core[grpc]<2.0.0dev,>=1.14.0->cirq>=0.7.0->openfermioncirq) (4.6)\n",
            "Requirement already satisfied: pyasn1-modules>=0.2.1 in /usr/local/lib/python3.6/dist-packages (from google-auth<2.0dev,>=0.4.0->google-api-core[grpc]<2.0.0dev,>=1.14.0->cirq>=0.7.0->openfermioncirq) (0.2.8)\n",
            "Requirement already satisfied: pyasn1>=0.1.3 in /usr/local/lib/python3.6/dist-packages (from rsa<5,>=3.1.4; python_version >= \"3\"->google-auth<2.0dev,>=0.4.0->google-api-core[grpc]<2.0.0dev,>=1.14.0->cirq>=0.7.0->openfermioncirq) (0.4.8)\n",
            "Installing collected packages: deprecation, openfermioncirq\n",
            "Successfully installed deprecation-2.1.0 openfermioncirq-0.4.0\n"
          ],
          "name": "stdout"
        }
      ]
    },
    {
      "cell_type": "markdown",
      "metadata": {
        "id": "OgRivVCIrqgw",
        "colab_type": "text"
      },
      "source": [
        "In the cell below, we compile the Trotter step with full rank so $L = N^2$ and depth is actually $O(N^3)$ and repeat the Trotter step multiple times to show that it actually converges to the correct result. Note that the rank of the Coulomb operators is asymptotically $O(N)$ but for very small molecules in small basis sets only a few eigenvalues can be truncated."
      ]
    },
    {
      "cell_type": "code",
      "metadata": {
        "id": "n3YaVVfNrqgx",
        "colab_type": "code",
        "colab": {
          "base_uri": "https://localhost:8080/",
          "height": 51
        },
        "outputId": "cc895ac5-2a43-432f-8a4d-638adfd97eaa"
      },
      "source": [
        "# Initialize a random initial state.\n",
        "import numpy\n",
        "random_seed = 8317\n",
        "initial_state = openfermion.haar_random_vector(\n",
        "    2 ** n_qubits, random_seed).astype(numpy.complex64)\n",
        "\n",
        "# Trotter step paramaters.\n",
        "n_steps = 3\n",
        "\n",
        "# Compile the low rank Trotter step using OpenFermion-Cirq.\n",
        "qubits = cirq.LineQubit.range(n_qubits)\n",
        "circuit = cirq.Circuit(\n",
        "    trotter.simulate_trotter(\n",
        "            qubits, molecular_hamiltonian,\n",
        "            time=time, n_steps=n_steps,\n",
        "            algorithm=trotter.LOW_RANK),\n",
        "    strategy=cirq.InsertStrategy.EARLIEST)\n",
        "\n",
        "# Print circuit.\n",
        "print(f'Circuit was generated with {len(circuit)} moments')\n",
        "cirq.DropNegligible().optimize_circuit(circuit)\n",
        "cirq.DropEmptyMoments().optimize_circuit(circuit)\n",
        "print(f'After optimization, Circuit has {len(circuit)} moments')\n",
        "#print(circuit.to_text_diagram(transpose=True))"
      ],
      "execution_count": 4,
      "outputs": [
        {
          "output_type": "stream",
          "text": [
            "Circuit was generated with 178 moments\n",
            "After optimization, Circuit has 169 moments\n"
          ],
          "name": "stdout"
        }
      ]
    },
    {
      "cell_type": "markdown",
      "metadata": {
        "id": "UJfYawnFrqgz",
        "colab_type": "text"
      },
      "source": [
        "For comparison we compute the time step with the exact time evolution operator $\\psi(t) = e^{ -i H t } \\psi(0)$ in matrix form.\n",
        "\n",
        "We plot the exact values as solid lines and the simulation as dashed lines and include a global phase $e^{i\\pi/2}$ for each trotter step."
      ]
    },
    {
      "cell_type": "code",
      "metadata": {
        "id": "tmniPJUOrqg0",
        "colab_type": "code",
        "colab": {}
      },
      "source": [
        "# Numerically compute the correct circuit output.\n",
        "import scipy\n",
        "exact_state = scipy.sparse.linalg.expm_multiply(\n",
        "    -1j * time * hamiltonian_sparse, initial_state)"
      ],
      "execution_count": 5,
      "outputs": []
    },
    {
      "cell_type": "code",
      "metadata": {
        "id": "ME1lrtt8rqg2",
        "colab_type": "code",
        "colab": {
          "base_uri": "https://localhost:8080/",
          "height": 295
        },
        "outputId": "64ad576a-31dc-4c17-a0c8-923c2b7d414e"
      },
      "source": [
        "%matplotlib inline\n",
        "import matplotlib.pyplot as plt\n",
        "import math, cmath\n",
        "fig, axs = plt.subplots(2)\n",
        "axs[1].set_xlabel('basis')\n",
        "axs[0].set_ylabel('Re(psi)')\n",
        "axs[1].set_ylabel('Im(psi)')\n",
        "axs[0].set_title('Simulation')\n",
        "x = range(exact_state.size)\n",
        "phase = cmath.exp(1j*math.pi/2)\n",
        "axs[0].plot(x, (phase*exact_state).real, 'r')\n",
        "axs[1].plot(x, (phase*exact_state).imag, 'r')\n",
        "plt.show();"
      ],
      "execution_count": 6,
      "outputs": [
        {
          "output_type": "display_data",
          "data": {
            "image/png": "[encoded data removed]",
            "text/plain": [
              "<Figure size 432x288 with 2 Axes>"
            ]
          },
          "metadata": {
            "tags": [],
            "needs_background": "light"
          }
        }
      ]
    },
    {
      "cell_type": "markdown",
      "metadata": {
        "id": "NoIhX58Rrqg5",
        "colab_type": "text"
      },
      "source": [
        "Compare to complex conjugate state, why?\n",
        "And why are Re and Im exchanged between exact and simulated?\n",
        "Looks as if a phase factor is there..."
      ]
    },
    {
      "cell_type": "code",
      "metadata": {
        "id": "DOiiMh8Nrqg6",
        "colab_type": "code",
        "colab": {
          "base_uri": "https://localhost:8080/",
          "height": 51
        },
        "outputId": "da91196c-97c7-42c8-d731-a60e8f5d9315"
      },
      "source": [
        "# Use Cirq simulator to apply circuit.\n",
        "simulator = cirq.Simulator()\n",
        "result = simulator.simulate(circuit, qubit_order=qubits, initial_state=initial_state)\n",
        "simulated_state = result.final_state\n",
        "#print( result )\n",
        "axs[0].plot(x, simulated_state.real, 'r', dashes=[1, 1])\n",
        "axs[1].plot(x, simulated_state.imag, 'r', dashes=[1, 1])\n",
        "\n",
        "# Print final fidelity.\n",
        "fidelity = abs(numpy.dot(simulated_state, numpy.conjugate(exact_state))) ** 2\n",
        "print('Fidelity with exact result is {}.\\n'.format(round(fidelity, 6)))\n"
      ],
      "execution_count": null,
      "outputs": [
        {
          "output_type": "stream",
          "text": [
            "Fidelity with exact result is 0.999996.\n",
            "\n"
          ],
          "name": "stdout"
        }
      ]
    },
    {
      "cell_type": "code",
      "metadata": {
        "id": "8vH0-L6srqg8",
        "colab_type": "code",
        "colab": {
          "base_uri": "https://localhost:8080/",
          "height": 51
        },
        "outputId": "476e3f53-dc63-4169-e929-58f7b6b139ce"
      },
      "source": [
        "# Compute next time step\n",
        "exact_state = scipy.sparse.linalg.expm_multiply(\n",
        "    -1j * time * hamiltonian_sparse, exact_state)\n",
        "phase *= cmath.exp(1j*math.pi/2)\n",
        "axs[0].plot(x, (phase*exact_state).real, 'g')\n",
        "axs[1].plot(x, (phase*exact_state).imag, 'g')\n",
        "result = simulator.simulate(circuit, qubit_order=qubits, initial_state=simulated_state)\n",
        "simulated_state = result.final_state\n",
        "axs[0].plot(x, simulated_state.real, 'g', dashes=[1, 1])\n",
        "axs[1].plot(x, simulated_state.imag, 'g', dashes=[1, 1])\n",
        "fidelity = abs(numpy.dot(simulated_state, numpy.conjugate(exact_state))) ** 2\n",
        "print('Fidelity with exact result is {}.\\n'.format(round(fidelity, 6)))"
      ],
      "execution_count": null,
      "outputs": [
        {
          "output_type": "stream",
          "text": [
            "Fidelity with exact result is 0.999985.\n",
            "\n"
          ],
          "name": "stdout"
        }
      ]
    },
    {
      "cell_type": "code",
      "metadata": {
        "id": "ATnfTJIzrqg-",
        "colab_type": "code",
        "colab": {
          "base_uri": "https://localhost:8080/",
          "height": 51
        },
        "outputId": "d59a677a-475f-4aba-8595-6fe60455227b"
      },
      "source": [
        "# Compute time step 3\n",
        "exact_state = scipy.sparse.linalg.expm_multiply(\n",
        "    -1j * time * hamiltonian_sparse, exact_state)\n",
        "phase *= cmath.exp(1j*math.pi/2)\n",
        "axs[0].plot(x, (phase*exact_state).real, 'b')\n",
        "axs[1].plot(x, (phase*exact_state).imag, 'b')\n",
        "result = simulator.simulate(circuit, qubit_order=qubits, initial_state=simulated_state)\n",
        "simulated_state = result.final_state\n",
        "axs[0].plot(x, simulated_state.real, 'b', dashes=[1, 1])\n",
        "axs[1].plot(x, simulated_state.imag, 'b', dashes=[1, 1])\n",
        "fidelity = abs(numpy.dot(simulated_state, numpy.conjugate(exact_state))) ** 2\n",
        "print('Fidelity with exact result is {}.\\n'.format(round(fidelity, 6)))"
      ],
      "execution_count": null,
      "outputs": [
        {
          "output_type": "stream",
          "text": [
            "Fidelity with exact result is 0.999969.\n",
            "\n"
          ],
          "name": "stdout"
        }
      ]
    },
    {
      "cell_type": "code",
      "metadata": {
        "id": "RKq9D9YsrqhA",
        "colab_type": "code",
        "colab": {
          "base_uri": "https://localhost:8080/",
          "height": 51
        },
        "outputId": "9497c5aa-463d-4486-cb6a-515dcf479782"
      },
      "source": [
        "# Compute time step 4\n",
        "exact_state = scipy.sparse.linalg.expm_multiply(\n",
        "    -1j * time * hamiltonian_sparse, exact_state)\n",
        "phase *= cmath.exp(1j*math.pi/2)\n",
        "axs[0].plot(x, (phase*exact_state).real, 'y')\n",
        "axs[1].plot(x, (phase*exact_state).imag, 'y')\n",
        "result = simulator.simulate(circuit, qubit_order=qubits, initial_state=simulated_state)\n",
        "simulated_state = result.final_state\n",
        "axs[0].plot(x, simulated_state.real, 'y', dashes=[1, 1])\n",
        "axs[1].plot(x, simulated_state.imag, 'y', dashes=[1, 1])\n",
        "fidelity = abs(numpy.dot(simulated_state, numpy.conjugate(exact_state))) ** 2\n",
        "print('Fidelity with exact result is {}.\\n'.format(round(fidelity, 6)))"
      ],
      "execution_count": null,
      "outputs": [
        {
          "output_type": "stream",
          "text": [
            "Fidelity with exact result is 0.999949.\n",
            "\n"
          ],
          "name": "stdout"
        }
      ]
    },
    {
      "cell_type": "code",
      "metadata": {
        "id": "7ovJvbCxrqhB",
        "colab_type": "code",
        "colab": {}
      },
      "source": [
        "for i, step in enumerate(simulator.simulate_moment_steps(circuit)):\n",
        "    if i == 0:\n",
        "        step.set_state_vector(simulated_state)\n",
        "    else:\n",
        "        color = (float(i/len(circuit)), float(i/len(circuit)), float(i/len(circuit))) \n",
        "        #print('state at step %d: %s' % (i, numpy.around(step.state_vector(), 3)))\n",
        "        #axs[2].plot(x, numpy.real(step.state_vector()), color)\n",
        "        #axs[3].plot(x, numpy.imag(step.state_vector()), color)\n",
        "plt.show()"
      ],
      "execution_count": null,
      "outputs": []
    },
    {
      "cell_type": "code",
      "metadata": {
        "id": "WXiv3ydZrqhD",
        "colab_type": "code",
        "colab": {}
      },
      "source": [
        ""
      ],
      "execution_count": null,
      "outputs": []
    }
  ]
}