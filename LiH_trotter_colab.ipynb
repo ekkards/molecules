{
  "nbformat": 4,
  "nbformat_minor": 0,
  "metadata": {
    "kernelspec": {
      "display_name": "Python 3",
      "language": "python",
      "name": "python3"
    },
    "language_info": {
      "codemirror_mode": {
        "name": "ipython",
        "version": 3
      },
      "file_extension": ".py",
      "mimetype": "text/x-python",
      "name": "python",
      "nbconvert_exporter": "python",
      "pygments_lexer": "ipython3",
      "version": "3.8.3"
    },
    "colab": {
      "name": "Kopie von LiH_trotter.ipynb",
      "provenance": [],
      "collapsed_sections": [],
      "include_colab_link": true
    }
  },
  "cells": [
    {
      "cell_type": "markdown",
      "metadata": {
        "id": "view-in-github",
        "colab_type": "text"
      },
      "source": [
        "<a href=\"https://colab.research.google.com/github/ekkards/molecules/blob/master/LiH_trotter_colab.ipynb\" target=\"_parent\"><img src=\"https://colab.research.google.com/assets/colab-badge.svg\" alt=\"Open In Colab\"/></a>"
      ]
    },
    {
      "cell_type": "markdown",
      "metadata": {
        "id": "CKGqNZwyrqgl",
        "colab_type": "text"
      },
      "source": [
        "# LiH molecule\n",
        "\n",
        "## Origin of this method: Low rank decomposition of the Coulomb operator\n",
        " \"Low rank representations for quantum simulation of electronic structure\"\n",
        "Mario Motta, Erika Ye, Jarrod R. McClean, Zhendong Li, Austin J. Minnich, Ryan Babbush, Garnet Kin-Lic Chan\n",
        "https://arxiv.org/abs/1808.02625\n",
        "\n",
        "The code is adapted from OpenFermion-Cirq Tutorial III: Low rank, arbitrary basis molecular simulations https://github.com/quantumlib/OpenFermion-Cirq/blob/master/examples/tutorial_3_arbitrary_basis_trotter.ipynb\n",
        "\n",
        "In Tutorial III both of those techniques are combined, along with some insights from electronic structure,\n",
        "to simulate a Trotter step under the arbitrary basis two-body operator as\n",
        "$$\n",
        "\\prod_{\\ell=0}^{L-1} R_\\ell \\exp\\left(-i\\sum_{pq} f_{\\ell p} f_{\\ell q} a^\\dagger_p a_p a^\\dagger_q a_q\\right) R_\\ell^\\dagger\n",
        "$$\n",
        "where we note that the operator in the exponential take the form of a diagonal Coulomb operator. Since we can implement the $R_\\ell$ circuits in $O(N)$ depth (see Tutorial I) and we can implement Trotter steps under diagonal Coulomb operators in $O(N)$ layers of gates (see Tutorial II) we see that we can implement Trotter steps under arbitrary basis electronic structure Hamiltionians in $O(L N) = O(N^2)$ depth, and all on a linearly connected device.\n",
        "\n",
        "## Example implementation: Trotter steps of LiH in molecular orbital basis\n",
        "\n",
        "We will now use these techniques to implement Trotter steps for an actual molecule. We will focus on LiH at equilibrium geometry, since integrals for that system are provided with every OpenFermion installation. However, by installing [OpenFermion-PySCF](https://github.com/quantumlib/OpenFermion-PySCF) or [OpenFermion-Psi4](https://github.com/quantumlib/OpenFermion-Psi4) one can use these techniques for any molecule at any geometry. We will generate LiH in an active space consisting of 4 qubits. First, we obtain the Hamiltonian as an InteractionOperator."
      ]
    },
    {
      "cell_type": "code",
      "metadata": {
        "id": "Do_h7wMkeGvo",
        "colab_type": "code",
        "colab": {
          "base_uri": "https://localhost:8080/",
          "height": 1000
        },
        "outputId": "b06af26f-bf0a-48f1-d2ca-9051928dc667"
      },
      "source": [
        "# Install required libraries in colab\n",
        "!pip install openfermion\n",
        "!pip install cirq\n",
        "!pip install openfermioncirq"
      ],
      "execution_count": 1,
      "outputs": [
        {
          "output_type": "stream",
          "text": [
            "Requirement already satisfied: openfermion in /usr/local/lib/python3.6/dist-packages (0.11.0)\n",
            "Requirement already satisfied: networkx in /usr/local/lib/python3.6/dist-packages (from openfermion) (2.4)\n",
            "Requirement already satisfied: numpy>=1.11.0 in /usr/local/lib/python3.6/dist-packages (from openfermion) (1.18.5)\n",
            "Requirement already satisfied: requests~=2.18 in /usr/local/lib/python3.6/dist-packages (from openfermion) (2.23.0)\n",
            "Requirement already satisfied: h5py>=2.8 in /usr/local/lib/python3.6/dist-packages (from openfermion) (2.10.0)\n",
            "Requirement already satisfied: scipy>=1.1.0 in /usr/local/lib/python3.6/dist-packages (from openfermion) (1.4.1)\n",
            "Requirement already satisfied: pubchempy in /usr/local/lib/python3.6/dist-packages (from openfermion) (1.0.4)\n",
            "Requirement already satisfied: decorator>=4.3.0 in /usr/local/lib/python3.6/dist-packages (from networkx->openfermion) (4.4.2)\n",
            "Requirement already satisfied: idna<3,>=2.5 in /usr/local/lib/python3.6/dist-packages (from requests~=2.18->openfermion) (2.9)\n",
            "Requirement already satisfied: chardet<4,>=3.0.2 in /usr/local/lib/python3.6/dist-packages (from requests~=2.18->openfermion) (3.0.4)\n",
            "Requirement already satisfied: urllib3!=1.25.0,!=1.25.1,<1.26,>=1.21.1 in /usr/local/lib/python3.6/dist-packages (from requests~=2.18->openfermion) (1.24.3)\n",
            "Requirement already satisfied: certifi>=2017.4.17 in /usr/local/lib/python3.6/dist-packages (from requests~=2.18->openfermion) (2020.6.20)\n",
            "Requirement already satisfied: six in /usr/local/lib/python3.6/dist-packages (from h5py>=2.8->openfermion) (1.12.0)\n",
            "Requirement already satisfied: cirq in /usr/local/lib/python3.6/dist-packages (0.8.1)\n",
            "Requirement already satisfied: scipy in /usr/local/lib/python3.6/dist-packages (from cirq) (1.4.1)\n",
            "Requirement already satisfied: google-api-core[grpc]<2.0.0dev,>=1.14.0 in /usr/local/lib/python3.6/dist-packages (from cirq) (1.16.0)\n",
            "Requirement already satisfied: protobuf==3.8.0 in /usr/local/lib/python3.6/dist-packages (from cirq) (3.8.0)\n",
            "Requirement already satisfied: matplotlib~=3.0 in /usr/local/lib/python3.6/dist-packages (from cirq) (3.2.2)\n",
            "Requirement already satisfied: pandas in /usr/local/lib/python3.6/dist-packages (from cirq) (1.0.5)\n",
            "Requirement already satisfied: dataclasses; python_version < \"3.7\" in /usr/local/lib/python3.6/dist-packages (from cirq) (0.7)\n",
            "Requirement already satisfied: freezegun~=0.3.15 in /usr/local/lib/python3.6/dist-packages (from cirq) (0.3.15)\n",
            "Requirement already satisfied: sortedcontainers~=2.0 in /usr/local/lib/python3.6/dist-packages (from cirq) (2.2.2)\n",
            "Requirement already satisfied: typing-extensions in /usr/local/lib/python3.6/dist-packages (from cirq) (3.6.6)\n",
            "Requirement already satisfied: requests~=2.18 in /usr/local/lib/python3.6/dist-packages (from cirq) (2.23.0)\n",
            "Requirement already satisfied: networkx~=2.4 in /usr/local/lib/python3.6/dist-packages (from cirq) (2.4)\n",
            "Requirement already satisfied: sympy in /usr/local/lib/python3.6/dist-packages (from cirq) (1.1.1)\n",
            "Requirement already satisfied: numpy~=1.16 in /usr/local/lib/python3.6/dist-packages (from cirq) (1.18.5)\n",
            "Requirement already satisfied: google-auth<2.0dev,>=0.4.0 in /usr/local/lib/python3.6/dist-packages (from google-api-core[grpc]<2.0.0dev,>=1.14.0->cirq) (1.17.2)\n",
            "Requirement already satisfied: six>=1.10.0 in /usr/local/lib/python3.6/dist-packages (from google-api-core[grpc]<2.0.0dev,>=1.14.0->cirq) (1.12.0)\n",
            "Requirement already satisfied: pytz in /usr/local/lib/python3.6/dist-packages (from google-api-core[grpc]<2.0.0dev,>=1.14.0->cirq) (2018.9)\n",
            "Requirement already satisfied: setuptools>=34.0.0 in /usr/local/lib/python3.6/dist-packages (from google-api-core[grpc]<2.0.0dev,>=1.14.0->cirq) (47.3.1)\n",
            "Requirement already satisfied: googleapis-common-protos<2.0dev,>=1.6.0 in /usr/local/lib/python3.6/dist-packages (from google-api-core[grpc]<2.0.0dev,>=1.14.0->cirq) (1.52.0)\n",
            "Requirement already satisfied: grpcio<2.0dev,>=1.8.2; extra == \"grpc\" in /usr/local/lib/python3.6/dist-packages (from google-api-core[grpc]<2.0.0dev,>=1.14.0->cirq) (1.30.0)\n",
            "Requirement already satisfied: pyparsing!=2.0.4,!=2.1.2,!=2.1.6,>=2.0.1 in /usr/local/lib/python3.6/dist-packages (from matplotlib~=3.0->cirq) (2.4.7)\n",
            "Requirement already satisfied: kiwisolver>=1.0.1 in /usr/local/lib/python3.6/dist-packages (from matplotlib~=3.0->cirq) (1.2.0)\n",
            "Requirement already satisfied: cycler>=0.10 in /usr/local/lib/python3.6/dist-packages (from matplotlib~=3.0->cirq) (0.10.0)\n",
            "Requirement already satisfied: python-dateutil>=2.1 in /usr/local/lib/python3.6/dist-packages (from matplotlib~=3.0->cirq) (2.8.1)\n",
            "Requirement already satisfied: chardet<4,>=3.0.2 in /usr/local/lib/python3.6/dist-packages (from requests~=2.18->cirq) (3.0.4)\n",
            "Requirement already satisfied: certifi>=2017.4.17 in /usr/local/lib/python3.6/dist-packages (from requests~=2.18->cirq) (2020.6.20)\n",
            "Requirement already satisfied: urllib3!=1.25.0,!=1.25.1,<1.26,>=1.21.1 in /usr/local/lib/python3.6/dist-packages (from requests~=2.18->cirq) (1.24.3)\n",
            "Requirement already satisfied: idna<3,>=2.5 in /usr/local/lib/python3.6/dist-packages (from requests~=2.18->cirq) (2.9)\n",
            "Requirement already satisfied: decorator>=4.3.0 in /usr/local/lib/python3.6/dist-packages (from networkx~=2.4->cirq) (4.4.2)\n",
            "Requirement already satisfied: mpmath>=0.19 in /usr/local/lib/python3.6/dist-packages (from sympy->cirq) (1.1.0)\n",
            "Requirement already satisfied: cachetools<5.0,>=2.0.0 in /usr/local/lib/python3.6/dist-packages (from google-auth<2.0dev,>=0.4.0->google-api-core[grpc]<2.0.0dev,>=1.14.0->cirq) (4.1.0)\n",
            "Requirement already satisfied: rsa<5,>=3.1.4; python_version >= \"3\" in /usr/local/lib/python3.6/dist-packages (from google-auth<2.0dev,>=0.4.0->google-api-core[grpc]<2.0.0dev,>=1.14.0->cirq) (4.6)\n",
            "Requirement already satisfied: pyasn1-modules>=0.2.1 in /usr/local/lib/python3.6/dist-packages (from google-auth<2.0dev,>=0.4.0->google-api-core[grpc]<2.0.0dev,>=1.14.0->cirq) (0.2.8)\n",
            "Requirement already satisfied: pyasn1>=0.1.3 in /usr/local/lib/python3.6/dist-packages (from rsa<5,>=3.1.4; python_version >= \"3\"->google-auth<2.0dev,>=0.4.0->google-api-core[grpc]<2.0.0dev,>=1.14.0->cirq) (0.4.8)\n",
            "Requirement already satisfied: openfermioncirq in /usr/local/lib/python3.6/dist-packages (0.4.0)\n",
            "Requirement already satisfied: cirq>=0.7.0 in /usr/local/lib/python3.6/dist-packages (from openfermioncirq) (0.8.1)\n",
            "Requirement already satisfied: openfermion>=0.11.0 in /usr/local/lib/python3.6/dist-packages (from openfermioncirq) (0.11.0)\n",
            "Requirement already satisfied: numpy in /usr/local/lib/python3.6/dist-packages (from openfermioncirq) (1.18.5)\n",
            "Requirement already satisfied: pandas in /usr/local/lib/python3.6/dist-packages (from openfermioncirq) (1.0.5)\n",
            "Requirement already satisfied: deprecation in /usr/local/lib/python3.6/dist-packages (from openfermioncirq) (2.1.0)\n",
            "Requirement already satisfied: scipy in /usr/local/lib/python3.6/dist-packages (from openfermioncirq) (1.4.1)\n",
            "Requirement already satisfied: sympy in /usr/local/lib/python3.6/dist-packages (from openfermioncirq) (1.1.1)\n",
            "Requirement already satisfied: protobuf==3.8.0 in /usr/local/lib/python3.6/dist-packages (from cirq>=0.7.0->openfermioncirq) (3.8.0)\n",
            "Requirement already satisfied: sortedcontainers~=2.0 in /usr/local/lib/python3.6/dist-packages (from cirq>=0.7.0->openfermioncirq) (2.2.2)\n",
            "Requirement already satisfied: google-api-core[grpc]<2.0.0dev,>=1.14.0 in /usr/local/lib/python3.6/dist-packages (from cirq>=0.7.0->openfermioncirq) (1.16.0)\n",
            "Requirement already satisfied: freezegun~=0.3.15 in /usr/local/lib/python3.6/dist-packages (from cirq>=0.7.0->openfermioncirq) (0.3.15)\n",
            "Requirement already satisfied: requests~=2.18 in /usr/local/lib/python3.6/dist-packages (from cirq>=0.7.0->openfermioncirq) (2.23.0)\n",
            "Requirement already satisfied: dataclasses; python_version < \"3.7\" in /usr/local/lib/python3.6/dist-packages (from cirq>=0.7.0->openfermioncirq) (0.7)\n",
            "Requirement already satisfied: matplotlib~=3.0 in /usr/local/lib/python3.6/dist-packages (from cirq>=0.7.0->openfermioncirq) (3.2.2)\n",
            "Requirement already satisfied: typing-extensions in /usr/local/lib/python3.6/dist-packages (from cirq>=0.7.0->openfermioncirq) (3.6.6)\n",
            "Requirement already satisfied: networkx~=2.4 in /usr/local/lib/python3.6/dist-packages (from cirq>=0.7.0->openfermioncirq) (2.4)\n",
            "Requirement already satisfied: h5py>=2.8 in /usr/local/lib/python3.6/dist-packages (from openfermion>=0.11.0->openfermioncirq) (2.10.0)\n",
            "Requirement already satisfied: pubchempy in /usr/local/lib/python3.6/dist-packages (from openfermion>=0.11.0->openfermioncirq) (1.0.4)\n",
            "Requirement already satisfied: python-dateutil>=2.6.1 in /usr/local/lib/python3.6/dist-packages (from pandas->openfermioncirq) (2.8.1)\n",
            "Requirement already satisfied: pytz>=2017.2 in /usr/local/lib/python3.6/dist-packages (from pandas->openfermioncirq) (2018.9)\n",
            "Requirement already satisfied: packaging in /usr/local/lib/python3.6/dist-packages (from deprecation->openfermioncirq) (20.4)\n",
            "Requirement already satisfied: mpmath>=0.19 in /usr/local/lib/python3.6/dist-packages (from sympy->openfermioncirq) (1.1.0)\n",
            "Requirement already satisfied: six>=1.9 in /usr/local/lib/python3.6/dist-packages (from protobuf==3.8.0->cirq>=0.7.0->openfermioncirq) (1.12.0)\n",
            "Requirement already satisfied: setuptools in /usr/local/lib/python3.6/dist-packages (from protobuf==3.8.0->cirq>=0.7.0->openfermioncirq) (47.3.1)\n",
            "Requirement already satisfied: google-auth<2.0dev,>=0.4.0 in /usr/local/lib/python3.6/dist-packages (from google-api-core[grpc]<2.0.0dev,>=1.14.0->cirq>=0.7.0->openfermioncirq) (1.17.2)\n",
            "Requirement already satisfied: googleapis-common-protos<2.0dev,>=1.6.0 in /usr/local/lib/python3.6/dist-packages (from google-api-core[grpc]<2.0.0dev,>=1.14.0->cirq>=0.7.0->openfermioncirq) (1.52.0)\n",
            "Requirement already satisfied: grpcio<2.0dev,>=1.8.2; extra == \"grpc\" in /usr/local/lib/python3.6/dist-packages (from google-api-core[grpc]<2.0.0dev,>=1.14.0->cirq>=0.7.0->openfermioncirq) (1.30.0)\n",
            "Requirement already satisfied: certifi>=2017.4.17 in /usr/local/lib/python3.6/dist-packages (from requests~=2.18->cirq>=0.7.0->openfermioncirq) (2020.6.20)\n",
            "Requirement already satisfied: chardet<4,>=3.0.2 in /usr/local/lib/python3.6/dist-packages (from requests~=2.18->cirq>=0.7.0->openfermioncirq) (3.0.4)\n",
            "Requirement already satisfied: urllib3!=1.25.0,!=1.25.1,<1.26,>=1.21.1 in /usr/local/lib/python3.6/dist-packages (from requests~=2.18->cirq>=0.7.0->openfermioncirq) (1.24.3)\n",
            "Requirement already satisfied: idna<3,>=2.5 in /usr/local/lib/python3.6/dist-packages (from requests~=2.18->cirq>=0.7.0->openfermioncirq) (2.9)\n",
            "Requirement already satisfied: cycler>=0.10 in /usr/local/lib/python3.6/dist-packages (from matplotlib~=3.0->cirq>=0.7.0->openfermioncirq) (0.10.0)\n",
            "Requirement already satisfied: pyparsing!=2.0.4,!=2.1.2,!=2.1.6,>=2.0.1 in /usr/local/lib/python3.6/dist-packages (from matplotlib~=3.0->cirq>=0.7.0->openfermioncirq) (2.4.7)\n",
            "Requirement already satisfied: kiwisolver>=1.0.1 in /usr/local/lib/python3.6/dist-packages (from matplotlib~=3.0->cirq>=0.7.0->openfermioncirq) (1.2.0)\n",
            "Requirement already satisfied: decorator>=4.3.0 in /usr/local/lib/python3.6/dist-packages (from networkx~=2.4->cirq>=0.7.0->openfermioncirq) (4.4.2)\n",
            "Requirement already satisfied: rsa<5,>=3.1.4; python_version >= \"3\" in /usr/local/lib/python3.6/dist-packages (from google-auth<2.0dev,>=0.4.0->google-api-core[grpc]<2.0.0dev,>=1.14.0->cirq>=0.7.0->openfermioncirq) (4.6)\n",
            "Requirement already satisfied: cachetools<5.0,>=2.0.0 in /usr/local/lib/python3.6/dist-packages (from google-auth<2.0dev,>=0.4.0->google-api-core[grpc]<2.0.0dev,>=1.14.0->cirq>=0.7.0->openfermioncirq) (4.1.0)\n",
            "Requirement already satisfied: pyasn1-modules>=0.2.1 in /usr/local/lib/python3.6/dist-packages (from google-auth<2.0dev,>=0.4.0->google-api-core[grpc]<2.0.0dev,>=1.14.0->cirq>=0.7.0->openfermioncirq) (0.2.8)\n",
            "Requirement already satisfied: pyasn1>=0.1.3 in /usr/local/lib/python3.6/dist-packages (from rsa<5,>=3.1.4; python_version >= \"3\"->google-auth<2.0dev,>=0.4.0->google-api-core[grpc]<2.0.0dev,>=1.14.0->cirq>=0.7.0->openfermioncirq) (0.4.8)\n"
          ],
          "name": "stdout"
        }
      ]
    },
    {
      "cell_type": "code",
      "metadata": {
        "id": "DpV_T5Zlrqgn",
        "colab_type": "code",
        "colab": {
          "base_uri": "https://localhost:8080/",
          "height": 680
        },
        "outputId": "ce09e7e6-e41a-42e9-ac49-761231bae63f"
      },
      "source": [
        "# Set Hamiltonian parameters for LiH simulation in active space.\n",
        "import openfermion\n",
        "diatomic_bond_length = 1.45\n",
        "geometry = [('Li', (0., 0., 0.)), ('H', (0., 0., diatomic_bond_length))]\n",
        "basis = 'sto-3g'\n",
        "multiplicity = 1\n",
        "active_space_start = 1\n",
        "active_space_stop = 3\n",
        "\n",
        "# Generate and populate instance of MolecularData.\n",
        "molecule = openfermion.MolecularData(geometry, basis, multiplicity, description=\"1.45\")\n",
        "molecule.load()\n",
        "\n",
        "# Get the Hamiltonian in an active space.\n",
        "molecular_hamiltonian = molecule.get_molecular_hamiltonian(\n",
        "    occupied_indices=range(active_space_start),\n",
        "    active_indices=range(active_space_start, active_space_stop))\n",
        "\n",
        "print(\"Molecular Hamiltonian with 1 constant and {} 1-body and {} 2-body tensor terms\"\n",
        "        .format(molecular_hamiltonian.one_body_tensor.size, \n",
        "                molecular_hamiltonian.two_body_tensor.size))\n",
        "\n",
        "# obtain the Hamiltonian as matrix\n",
        "hamiltonian_sparse = openfermion.get_sparse_operator(molecular_hamiltonian)\n",
        "LiH_matrix = hamiltonian_sparse.todense()\n",
        "print(\"Hamiltonian matrix as {} from which {} are not null\"\n",
        "      .format( LiH_matrix.shape, hamiltonian_sparse.nnz))\n",
        "\n",
        "# solve for eigenvalues by matrix algorithms\n",
        "from scipy.linalg import eigh\n",
        "eigenvalues , eigenvectors = eigh(LiH_matrix)\n",
        "print(\"Eigenvalues  (Energies)\\n\", eigenvalues.round(6))\n",
        "print(\"Eigenvectors (Orbitals)\\n\", eigenvectors.real.round(1))"
      ],
      "execution_count": 2,
      "outputs": [
        {
          "output_type": "stream",
          "text": [
            "Molecular Hamiltonian with 1 constant and 16 1-body and 256 2-body tensor terms\n",
            "Hamiltonian matrix as (16, 16) from which 36 are not null\n",
            "Eigenvalues  (Energies)\n",
            " [-7.862773 -7.783396 -7.783396 -7.714057 -7.714057 -7.714057 -7.700476\n",
            " -7.569985 -7.569985 -7.512    -7.512    -7.364817 -7.151525 -7.130407\n",
            " -7.130407 -6.769813]\n",
            "Eigenvectors (Orbitals)\n",
            " [[ 0.   0.   0.   0.   0.   0.   0.   0.   0.   0.   0.   0.   0.   0.\n",
            "   0.   1. ]\n",
            " [ 0.   0.   0.   0.   0.   0.   0.   0.   0.1  0.   0.   0.   0.   1.\n",
            "   0.1  0. ]\n",
            " [ 0.   0.   0.   0.   0.   0.   0.   0.1 -0.   0.   0.   0.   0.  -0.1\n",
            "   1.   0. ]\n",
            " [ 0.   0.  -0.   0.   0.   0.  -0.1  0.   0.  -0.  -0.   0.   1.   0.\n",
            "   0.   0. ]\n",
            " [ 0.   0.   0.   0.   0.   0.   0.  -0.1 -1.   0.   0.   0.   0.   0.1\n",
            "   0.   0. ]\n",
            " [ 0.   0.   0.   1.   0.   0.   0.   0.   0.   0.   0.   0.   0.   0.\n",
            "   0.   0. ]\n",
            " [ 0.   0.   0.   0.   0.7  0.  -0.7  0.   0.   0.   0.   0.  -0.1  0.\n",
            "   0.   0. ]\n",
            " [-0.  -0.  -0.   0.   0.   0.   0.   0.   0.  -0.  -1.   0.  -0.   0.\n",
            "   0.   0. ]\n",
            " [ 0.   0.   0.   0.   0.   0.   0.  -1.   0.1  0.   0.   0.   0.  -0.\n",
            "   0.1  0. ]\n",
            " [-0.  -0.   0.   0.   0.7 -0.   0.7  0.   0.   0.   0.   0.   0.1  0.\n",
            "   0.   0. ]\n",
            " [-0.  -0.   0.   0.  -0.   1.  -0.   0.   0.   0.   0.   0.   0.   0.\n",
            "   0.   0. ]\n",
            " [ 0.   0.   0.   0.   0.  -0.   0.   0.   0.   1.   0.   0.   0.   0.\n",
            "   0.   0. ]\n",
            " [-1.   0.   0.   0.  -0.  -0.  -0.   0.   0.   0.   0.   0.   0.   0.\n",
            "   0.   0. ]\n",
            " [-0.  -1.   0.   0.  -0.  -0.  -0.   0.   0.   0.   0.   0.   0.   0.\n",
            "   0.   0. ]\n",
            " [ 0.   0.   1.   0.   0.  -0.   0.   0.   0.  -0.   0.   0.   0.   0.\n",
            "   0.   0. ]\n",
            " [ 0.   0.   0.   0.   0.   0.   0.   0.   0.   0.   0.   1.   0.   0.\n",
            "   0.   0. ]]\n"
          ],
          "name": "stdout"
        }
      ]
    },
    {
      "cell_type": "markdown",
      "metadata": {
        "id": "xyKawvRNrqgq",
        "colab_type": "text"
      },
      "source": [
        "We are not yet aiming for chemical accuracy. We could check the Hamiltonian' eigenvalues with experimental data or compare to other computations from https://cccbdb.nist.gov/energy2.asp \n",
        "However, in the example the molecule integrals are provided by OpenFermion only for $1,45 \\mathring{A}$. If you look up the experimental geometry (correct for the Born-Openheimer approximation), $r_{LiH} = 1.595 \\mathring{A}$ for $^7Li$ https://cccbdb.nist.gov/expgeom2.asp.\n",
        "\n",
        "You can see that the matrix calculation would result in exponential runtimes for larger systems. We convert the Hamiltonian for simulation with a quantum computer into the so-called \"second quantized\" operator form, as was shown in Tutorial II.\n",
        "$$\n",
        "H = \\sum_{pq} T_{pq} a^\\dagger_p a_q + \\sum_{pq} V_{pq} a^\\dagger_p a_p a^\\dagger_q a_q.\n",
        "$$"
      ]
    },
    {
      "cell_type": "code",
      "metadata": {
        "id": "1BsBsVDtrqgr",
        "colab_type": "code",
        "colab": {
          "base_uri": "https://localhost:8080/",
          "height": 34
        },
        "outputId": "e18d8d05-6a10-4a7d-9ae6-61bb2ba9611e"
      },
      "source": [
        "fermion_operator = openfermion.get_fermion_operator(molecular_hamiltonian)\n",
        "print(\"Fermionic Hamiltonian with {} terms\".format( len(fermion_operator.terms)))\n",
        "#print(fermion_operator)"
      ],
      "execution_count": 3,
      "outputs": [
        {
          "output_type": "stream",
          "text": [
            "Fermionic Hamiltonian with 73 terms\n"
          ],
          "name": "stdout"
        }
      ]
    },
    {
      "cell_type": "markdown",
      "metadata": {
        "id": "tIl8XRq6rqgu",
        "colab_type": "text"
      },
      "source": [
        "We see from the above output that this is a fairly complex Hamiltonian already. Next we will use the `simulate_trotter` function from Tutorial I, but this time with the built-in `LOW_RANK` Trotter step type, associated with these low rank techniques.\n",
        "\n",
        "Next we setup the simulation environment with qubits on a line."
      ]
    },
    {
      "cell_type": "code",
      "metadata": {
        "id": "6sFl_We7rqgu",
        "colab_type": "code",
        "colab": {}
      },
      "source": [
        "import cirq\n",
        "import openfermioncirq\n",
        "from openfermioncirq import trotter\n",
        "\n",
        "# Trotter step parameters.\n",
        "time = 1.\n",
        "final_rank = 2\n",
        "\n",
        "# Initialize circuit qubits in a line.\n",
        "n_qubits = openfermion.count_qubits(molecular_hamiltonian)\n",
        "qubits = cirq.LineQubit.range(n_qubits)"
      ],
      "execution_count": 4,
      "outputs": []
    },
    {
      "cell_type": "markdown",
      "metadata": {
        "id": "OgRivVCIrqgw",
        "colab_type": "text"
      },
      "source": [
        "In the cell below, we compile the Trotter step with full rank so $L = N^2$ and depth is actually $O(N^3)$ and repeat the Trotter step multiple times to show that it actually converges to the correct result. Note that the rank of the Coulomb operators is asymptotically $O(N)$ but for very small molecules in small basis sets only a few eigenvalues can be truncated."
      ]
    },
    {
      "cell_type": "code",
      "metadata": {
        "id": "n3YaVVfNrqgx",
        "colab_type": "code",
        "colab": {
          "base_uri": "https://localhost:8080/",
          "height": 51
        },
        "outputId": "d5cdbf0a-3659-41cb-a458-5b65cd4cabad"
      },
      "source": [
        "# Trotter step paramaters.\n",
        "n_steps = 3\n",
        "\n",
        "# Compile the low rank Trotter step using OpenFermion-Cirq.\n",
        "qubits = cirq.LineQubit.range(n_qubits)\n",
        "circuit = cirq.Circuit(\n",
        "    trotter.simulate_trotter(\n",
        "            qubits, molecular_hamiltonian,\n",
        "            time=time, n_steps=n_steps,\n",
        "            algorithm=trotter.LOW_RANK),\n",
        "    strategy=cirq.InsertStrategy.EARLIEST)\n",
        "\n",
        "# Print circuit.\n",
        "print(f'Circuit was generated with {len(circuit)} moments')\n",
        "cirq.DropNegligible().optimize_circuit(circuit)\n",
        "cirq.DropEmptyMoments().optimize_circuit(circuit)\n",
        "print(f'After optimization, Circuit has {len(circuit)} moments')\n",
        "#print(circuit.to_text_diagram(transpose=True))"
      ],
      "execution_count": 5,
      "outputs": [
        {
          "output_type": "stream",
          "text": [
            "Circuit was generated with 178 moments\n",
            "After optimization, Circuit has 169 moments\n"
          ],
          "name": "stdout"
        }
      ]
    },
    {
      "cell_type": "markdown",
      "metadata": {
        "id": "UJfYawnFrqgz",
        "colab_type": "text"
      },
      "source": [
        "For comparison we compute the time step with the exact time evolution operator $\\psi(t) = e^{ -i H t } \\psi(0)$ in matrix form.\n",
        "\n",
        "We plot the exact values as solid lines and the simulation as dashed lines and include a global phase $e^{i\\pi/2}$ for each trotter step."
      ]
    },
    {
      "cell_type": "code",
      "metadata": {
        "id": "ME1lrtt8rqg2",
        "colab_type": "code",
        "colab": {
          "base_uri": "https://localhost:8080/",
          "height": 312
        },
        "outputId": "4dd7c196-e140-49f7-9e11-2625c9d1545d"
      },
      "source": [
        "# Initialize a random initial state.\n",
        "import math, cmath, scipy, numpy\n",
        "#random_seed = 8317\n",
        "#initial_state = openfermion.haar_random_vector(\n",
        "#    2 ** n_qubits, random_seed).astype(numpy.complex64)\n",
        "\n",
        "# mixed state with tensor product, equivalent to Hadamard gates\n",
        "state = (1./math.sqrt(2.),1./math.sqrt(2.))\n",
        "for qbit in range(1,n_qubits):\n",
        "    state = numpy.kron( (1./math.sqrt(2.),1./math.sqrt(2.)), state )\n",
        "initial_state = state.astype(numpy.complex64)\n",
        "\n",
        "# or pick any eigenvector\n",
        "#initial_state = eigenvectors[3]\n",
        "simulator = cirq.Simulator()\n",
        "\n",
        "# display exact vs. simulated\n",
        "%matplotlib inline\n",
        "import matplotlib.pyplot as plt\n",
        "\n",
        "fig, axs = plt.subplots(2)\n",
        "axs[1].set_xlabel('basis')\n",
        "axs[0].set_ylabel('abs(psi)')\n",
        "axs[1].set_ylabel('phase(psi)')\n",
        "axs[0].set_title('Simulation')\n",
        "color = ['k', 'r', 'g', 'b', 'c', 'm', 'y']\n",
        "x = range(initial_state.size)\n",
        "# start from same initial state\n",
        "exact_state = initial_state\n",
        "simulated_state = initial_state\n",
        "\n",
        "phs = numpy.vectorize(cmath.phase)\n",
        "axs[0].plot(x, abs(initial_state), color[0])\n",
        "axs[1].plot(x, phs(initial_state), color[0])\n",
        "for it in range(1,2):\n",
        "  # Numerically compute the correct circuit output, solid line\n",
        "  exact_state = scipy.sparse.linalg.expm_multiply(\n",
        "    -1j * time * hamiltonian_sparse, initial_state)\n",
        "  #phase = cmath.exp(it*1j*math.pi/2)    # needed for plot, may be off\n",
        "  axs[0].plot(x, abs(exact_state), color[it])\n",
        "  axs[1].plot(x, phs(exact_state), color[it])\n",
        "\n",
        "  # Use Cirq simulator to apply circuit, dotted line\n",
        "\n",
        "  result = simulator.simulate(circuit, qubit_order=qubits, initial_state=simulated_state)\n",
        "  simulated_state = result.final_state\n",
        "  axs[0].plot(x, abs(simulated_state), color[it], dashes=[1, 1])\n",
        "  axs[1].plot(x, phs(simulated_state), color[it], dashes=[1, 1])\n",
        "\n",
        "  # Print fidelity and phase\n",
        "  ab, ph = cmath.polar(numpy.dot(simulated_state,numpy.conjugate(exact_state)))\n",
        "  print('time=\u0010{} fidelity={} phase={}*pi'\n",
        "    .format(it, round(ab**2,6),round(ph/math.pi)))\n",
        "plt.show()"
      ],
      "execution_count": 6,
      "outputs": [
        {
          "output_type": "stream",
          "text": [
            "time=\u00101 fidelity=0.999998 phase=0*pi\n"
          ],
          "name": "stdout"
        },
        {
          "output_type": "display_data",
          "data": {
            "image/png": "[encoded data removed]",
            "text/plain": [
              "<Figure size 432x288 with 2 Axes>"
            ]
          },
          "metadata": {
            "tags": [],
            "needs_background": "light"
          }
        }
      ]
    },
    {
      "cell_type": "markdown",
      "metadata": {
        "id": "GoyFnDiegR3i",
        "colab_type": "text"
      },
      "source": [
        "Now run like on a quantum computer , which needs preparation of initial state by gates and has a measurement at the very end:"
      ]
    },
    {
      "cell_type": "code",
      "metadata": {
        "id": "al_ZNpP9JckE",
        "colab_type": "code",
        "colab": {
          "base_uri": "https://localhost:8080/",
          "height": 296
        },
        "outputId": "fa6efbcb-662f-43e5-9726-7c94b2013d02"
      },
      "source": [
        "circuit.insert(0,(cirq.H(q) for q in qubits))   # Hadamard gate for equal distribution\n",
        "circuit.append(cirq.measure_each(*qubits) )\n",
        "#print(circuit)\n",
        "print('Sample the circuit:')\n",
        "samples=simulator.run(circuit, repetitions=32768)\n",
        "#counts = samples.multi_measurement_histogram(keys=qubits)\n",
        "from cirq.study import visualize\n",
        "arr = visualize.plot_state_histogram(samples)\n"
      ],
      "execution_count": 7,
      "outputs": [
        {
          "output_type": "stream",
          "text": [
            "Sample the circuit:\n"
          ],
          "name": "stdout"
        },
        {
          "output_type": "display_data",
          "data": {
            "image/png": "[encoded data removed]",
            "text/plain": [
              "<Figure size 432x288 with 1 Axes>"
            ]
          },
          "metadata": {
            "tags": [],
            "needs_background": "light"
          }
        }
      ]
    }
  ]
}